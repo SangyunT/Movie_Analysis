{
 "cells": [
  {
   "cell_type": "markdown",
   "metadata": {},
   "source": [
    "## Exploring data\n"
   ]
  },
  {
   "cell_type": "code",
   "execution_count": 1,
   "metadata": {},
   "outputs": [],
   "source": [
    "import pandas as pd\n",
    "import sqlite3\n",
    "import matplotlib.pyplot as plt\n",
    "import numpy as np\n",
    "import seaborn as sns"
   ]
  },
  {
   "cell_type": "markdown",
   "metadata": {},
   "source": [
    "### movie_gross CSV file"
   ]
  },
  {
   "cell_type": "code",
   "execution_count": 26,
   "metadata": {},
   "outputs": [
    {
     "data": {
      "text/html": [
       "<div>\n",
       "<style scoped>\n",
       "    .dataframe tbody tr th:only-of-type {\n",
       "        vertical-align: middle;\n",
       "    }\n",
       "\n",
       "    .dataframe tbody tr th {\n",
       "        vertical-align: top;\n",
       "    }\n",
       "\n",
       "    .dataframe thead th {\n",
       "        text-align: right;\n",
       "    }\n",
       "</style>\n",
       "<table border=\"1\" class=\"dataframe\">\n",
       "  <thead>\n",
       "    <tr style=\"text-align: right;\">\n",
       "      <th></th>\n",
       "      <th>title</th>\n",
       "      <th>studio</th>\n",
       "      <th>domestic_gross</th>\n",
       "      <th>foreign_gross</th>\n",
       "      <th>year</th>\n",
       "    </tr>\n",
       "  </thead>\n",
       "  <tbody>\n",
       "    <tr>\n",
       "      <th>0</th>\n",
       "      <td>Toy Story 3</td>\n",
       "      <td>BV</td>\n",
       "      <td>415000000.0</td>\n",
       "      <td>652000000</td>\n",
       "      <td>2010</td>\n",
       "    </tr>\n",
       "    <tr>\n",
       "      <th>1</th>\n",
       "      <td>Alice in Wonderland (2010)</td>\n",
       "      <td>BV</td>\n",
       "      <td>334200000.0</td>\n",
       "      <td>691300000</td>\n",
       "      <td>2010</td>\n",
       "    </tr>\n",
       "    <tr>\n",
       "      <th>2</th>\n",
       "      <td>Harry Potter and the Deathly Hallows Part 1</td>\n",
       "      <td>WB</td>\n",
       "      <td>296000000.0</td>\n",
       "      <td>664300000</td>\n",
       "      <td>2010</td>\n",
       "    </tr>\n",
       "    <tr>\n",
       "      <th>3</th>\n",
       "      <td>Inception</td>\n",
       "      <td>WB</td>\n",
       "      <td>292600000.0</td>\n",
       "      <td>535700000</td>\n",
       "      <td>2010</td>\n",
       "    </tr>\n",
       "    <tr>\n",
       "      <th>4</th>\n",
       "      <td>Shrek Forever After</td>\n",
       "      <td>P/DW</td>\n",
       "      <td>238700000.0</td>\n",
       "      <td>513900000</td>\n",
       "      <td>2010</td>\n",
       "    </tr>\n",
       "  </tbody>\n",
       "</table>\n",
       "</div>"
      ],
      "text/plain": [
       "                                         title studio  domestic_gross   \n",
       "0                                  Toy Story 3     BV     415000000.0  \\\n",
       "1                   Alice in Wonderland (2010)     BV     334200000.0   \n",
       "2  Harry Potter and the Deathly Hallows Part 1     WB     296000000.0   \n",
       "3                                    Inception     WB     292600000.0   \n",
       "4                          Shrek Forever After   P/DW     238700000.0   \n",
       "\n",
       "  foreign_gross  year  \n",
       "0     652000000  2010  \n",
       "1     691300000  2010  \n",
       "2     664300000  2010  \n",
       "3     535700000  2010  \n",
       "4     513900000  2010  "
      ]
     },
     "execution_count": 26,
     "metadata": {},
     "output_type": "execute_result"
    }
   ],
   "source": [
    "movie_gross = pd.read_csv(\"zippedData/bom.movie_gross.csv.gz\")\n",
    "movie_gross.head()"
   ]
  },
  {
   "cell_type": "markdown",
   "metadata": {},
   "source": [
    "### tmdb_movie CSV file"
   ]
  },
  {
   "cell_type": "code",
   "execution_count": 32,
   "metadata": {},
   "outputs": [
    {
     "data": {
      "text/html": [
       "<div>\n",
       "<style scoped>\n",
       "    .dataframe tbody tr th:only-of-type {\n",
       "        vertical-align: middle;\n",
       "    }\n",
       "\n",
       "    .dataframe tbody tr th {\n",
       "        vertical-align: top;\n",
       "    }\n",
       "\n",
       "    .dataframe thead th {\n",
       "        text-align: right;\n",
       "    }\n",
       "</style>\n",
       "<table border=\"1\" class=\"dataframe\">\n",
       "  <thead>\n",
       "    <tr style=\"text-align: right;\">\n",
       "      <th></th>\n",
       "      <th>genre_ids</th>\n",
       "      <th>id_x</th>\n",
       "      <th>popularity</th>\n",
       "      <th>release_date_x</th>\n",
       "      <th>vote_average</th>\n",
       "      <th>vote_count</th>\n",
       "      <th>id_y</th>\n",
       "      <th>movie</th>\n",
       "      <th>production_budget</th>\n",
       "      <th>domestic_gross</th>\n",
       "      <th>worldwide_gross</th>\n",
       "      <th>profit</th>\n",
       "      <th>roi</th>\n",
       "    </tr>\n",
       "  </thead>\n",
       "  <tbody>\n",
       "    <tr>\n",
       "      <th>0</th>\n",
       "      <td>[14, 12, 16, 10751]</td>\n",
       "      <td>10191</td>\n",
       "      <td>28.734</td>\n",
       "      <td>2010-03-26</td>\n",
       "      <td>7.7</td>\n",
       "      <td>7610</td>\n",
       "      <td>30</td>\n",
       "      <td>How To Train Your Dragon</td>\n",
       "      <td>165000000.0</td>\n",
       "      <td>217581232.0</td>\n",
       "      <td>494870992.0</td>\n",
       "      <td>329870992</td>\n",
       "      <td>299.921813</td>\n",
       "    </tr>\n",
       "    <tr>\n",
       "      <th>1</th>\n",
       "      <td>[12, 28, 878]</td>\n",
       "      <td>10138</td>\n",
       "      <td>28.515</td>\n",
       "      <td>2010-05-07</td>\n",
       "      <td>6.8</td>\n",
       "      <td>12368</td>\n",
       "      <td>15</td>\n",
       "      <td>Iron Man 2</td>\n",
       "      <td>170000000.0</td>\n",
       "      <td>312433331.0</td>\n",
       "      <td>621156389.0</td>\n",
       "      <td>451156389</td>\n",
       "      <td>365.386111</td>\n",
       "    </tr>\n",
       "    <tr>\n",
       "      <th>2</th>\n",
       "      <td>[16, 35, 10751]</td>\n",
       "      <td>862</td>\n",
       "      <td>28.005</td>\n",
       "      <td>1995-11-22</td>\n",
       "      <td>7.9</td>\n",
       "      <td>10174</td>\n",
       "      <td>37</td>\n",
       "      <td>Toy Story</td>\n",
       "      <td>30000000.0</td>\n",
       "      <td>191796233.0</td>\n",
       "      <td>364545516.0</td>\n",
       "      <td>334545516</td>\n",
       "      <td>1215.151720</td>\n",
       "    </tr>\n",
       "    <tr>\n",
       "      <th>3</th>\n",
       "      <td>[28, 878, 12]</td>\n",
       "      <td>27205</td>\n",
       "      <td>27.920</td>\n",
       "      <td>2010-07-16</td>\n",
       "      <td>8.3</td>\n",
       "      <td>22186</td>\n",
       "      <td>38</td>\n",
       "      <td>Inception</td>\n",
       "      <td>160000000.0</td>\n",
       "      <td>292576195.0</td>\n",
       "      <td>835524642.0</td>\n",
       "      <td>675524642</td>\n",
       "      <td>522.202901</td>\n",
       "    </tr>\n",
       "    <tr>\n",
       "      <th>4</th>\n",
       "      <td>[12, 14, 10751]</td>\n",
       "      <td>32657</td>\n",
       "      <td>26.691</td>\n",
       "      <td>2010-02-11</td>\n",
       "      <td>6.1</td>\n",
       "      <td>4229</td>\n",
       "      <td>17</td>\n",
       "      <td>Percy Jackson &amp; The Olympians: The Lightning T...</td>\n",
       "      <td>95000000.0</td>\n",
       "      <td>88768303.0</td>\n",
       "      <td>223050874.0</td>\n",
       "      <td>128050874</td>\n",
       "      <td>234.790394</td>\n",
       "    </tr>\n",
       "  </tbody>\n",
       "</table>\n",
       "</div>"
      ],
      "text/plain": [
       "             genre_ids   id_x  popularity release_date_x  vote_average   \n",
       "0  [14, 12, 16, 10751]  10191      28.734     2010-03-26           7.7  \\\n",
       "1        [12, 28, 878]  10138      28.515     2010-05-07           6.8   \n",
       "2      [16, 35, 10751]    862      28.005     1995-11-22           7.9   \n",
       "3        [28, 878, 12]  27205      27.920     2010-07-16           8.3   \n",
       "4      [12, 14, 10751]  32657      26.691     2010-02-11           6.1   \n",
       "\n",
       "   vote_count  id_y                                              movie   \n",
       "0        7610    30                           How To Train Your Dragon  \\\n",
       "1       12368    15                                         Iron Man 2   \n",
       "2       10174    37                                          Toy Story   \n",
       "3       22186    38                                          Inception   \n",
       "4        4229    17  Percy Jackson & The Olympians: The Lightning T...   \n",
       "\n",
       "   production_budget  domestic_gross  worldwide_gross     profit          roi  \n",
       "0        165000000.0     217581232.0      494870992.0  329870992   299.921813  \n",
       "1        170000000.0     312433331.0      621156389.0  451156389   365.386111  \n",
       "2         30000000.0     191796233.0      364545516.0  334545516  1215.151720  \n",
       "3        160000000.0     292576195.0      835524642.0  675524642   522.202901  \n",
       "4         95000000.0      88768303.0      223050874.0  128050874   234.790394  "
      ]
     },
     "execution_count": 32,
     "metadata": {},
     "output_type": "execute_result"
    }
   ],
   "source": [
    "tmdb_movie = pd.read_csv(\"imdb_with_movie_gross_V2.csv\")\n",
    "tmdb_movie.head()"
   ]
  },
  {
   "cell_type": "code",
   "execution_count": 33,
   "metadata": {},
   "outputs": [
    {
     "name": "stdout",
     "output_type": "stream",
     "text": [
      "<class 'pandas.core.frame.DataFrame'>\n",
      "RangeIndex: 2180 entries, 0 to 2179\n",
      "Data columns (total 13 columns):\n",
      " #   Column             Non-Null Count  Dtype  \n",
      "---  ------             --------------  -----  \n",
      " 0   genre_ids          2180 non-null   object \n",
      " 1   id_x               2180 non-null   int64  \n",
      " 2   popularity         2180 non-null   float64\n",
      " 3   release_date_x     2180 non-null   object \n",
      " 4   vote_average       2180 non-null   float64\n",
      " 5   vote_count         2180 non-null   int64  \n",
      " 6   id_y               2180 non-null   int64  \n",
      " 7   movie              2180 non-null   object \n",
      " 8   production_budget  2180 non-null   float64\n",
      " 9   domestic_gross     2180 non-null   float64\n",
      " 10  worldwide_gross    2180 non-null   float64\n",
      " 11  profit             2180 non-null   int64  \n",
      " 12  roi                2180 non-null   float64\n",
      "dtypes: float64(6), int64(4), object(3)\n",
      "memory usage: 221.5+ KB\n"
     ]
    }
   ],
   "source": [
    "tmdb_movie.info()"
   ]
  },
  {
   "cell_type": "code",
   "execution_count": 34,
   "metadata": {},
   "outputs": [],
   "source": [
    "tmdb_movie = tmdb_movie.reset_index()"
   ]
  },
  {
   "cell_type": "code",
   "execution_count": 35,
   "metadata": {},
   "outputs": [
    {
     "data": {
      "text/plain": [
       "release_year\n",
       "2014    273\n",
       "2011    272\n",
       "2015    269\n",
       "2013    257\n",
       "2010    245\n",
       "2016    233\n",
       "2012    226\n",
       "2017    177\n",
       "2018    164\n",
       "Name: count, dtype: int64"
      ]
     },
     "execution_count": 35,
     "metadata": {},
     "output_type": "execute_result"
    }
   ],
   "source": [
    "# Filtering movies that are released between 2010 and 2018\n",
    "tmdb_movie['release_year'] = tmdb_movie['release_date_x'].str[:4].astype(int)\n",
    "tmdb_movie = tmdb_movie.loc[(tmdb_movie['release_year'] >= 2010) & (tmdb_movie['release_year'] <= 2018)]\n",
    "tmdb_movie['release_year'].value_counts()"
   ]
  },
  {
   "cell_type": "markdown",
   "metadata": {},
   "source": [
    "From calling the `.info()` method, there seems to be no missing values to deal with. However, the `genre_ids` column is notable because it contains strings that appear to be lists with numerical values.\n",
    "\n",
    "Since all `genre_ids` are encoded, we match the numeric codes to the actual genre strings, based on information found [here](https://www.themoviedb.org/talk/5f58b094befb0900355684a6), and create another column called `genre` that contains a list of genres."
   ]
  },
  {
   "cell_type": "code",
   "execution_count": 36,
   "metadata": {},
   "outputs": [],
   "source": [
    "# A dictionary containing the genre_ids as keys and genres as values\n",
    "tmdb_genre_list = {\n",
    "            '28': 'Action',\n",
    "            '12': 'Adventure',\n",
    "            '16': 'Animation',\n",
    "            '35': 'Comedy',\n",
    "            '80': 'Crime',\n",
    "            '99': 'Documentary',\n",
    "            '18': 'Drama',\n",
    "            '10751': 'Family',\n",
    "            '14': 'Fantasy',\n",
    "            '36': 'History',\n",
    "            '27': 'Horror',\n",
    "            '10402': 'Music',\n",
    "            '9648': 'Mystery',\n",
    "            '10749': 'Romance',\n",
    "            '878': 'ScienceFiction',\n",
    "            '10770': 'TVMovie',\n",
    "            '53': 'Thriller',\n",
    "            '10752': 'War',\n",
    "            '37': 'Western'\n",
    "}"
   ]
  },
  {
   "cell_type": "code",
   "execution_count": 37,
   "metadata": {},
   "outputs": [
    {
     "data": {
      "text/plain": [
       "0    [14, 12, 16, 10751]\n",
       "1          [12, 28, 878]\n",
       "3          [28, 878, 12]\n",
       "4        [12, 14, 10751]\n",
       "6        [16, 10751, 35]\n",
       "Name: genre_ids, dtype: object"
      ]
     },
     "execution_count": 37,
     "metadata": {},
     "output_type": "execute_result"
    }
   ],
   "source": [
    "# Changing format of genre_ids to a list\n",
    "# Note that the numerical values are still in strings\n",
    "\n",
    "tmdb_movie['genre_ids'] = tmdb_movie['genre_ids'].str.strip('][').str.split(', ')\n",
    "tmdb_movie['genre_ids'].head()"
   ]
  },
  {
   "cell_type": "code",
   "execution_count": 38,
   "metadata": {},
   "outputs": [],
   "source": [
    "# Changing the numerical values to actual genres\n",
    "# Creating a function to match with the genre list created above.\n",
    "# If the number is not in the list, return 'Unknown'\n",
    "def clean_genre(genre):\n",
    "    new_genre = []\n",
    "    for id in genre:\n",
    "        if id in tmdb_genre_list.keys():\n",
    "            new_genre.append(tmdb_genre_list[id])\n",
    "        else:\n",
    "            new_genre = 'Unknown'\n",
    "    return new_genre\n",
    "\n",
    "# Using this function to change numbers to genres\n",
    "tmdb_movie['genre'] = tmdb_movie['genre_ids'].map(clean_genre)\n",
    "\n"
   ]
  },
  {
   "cell_type": "markdown",
   "metadata": {},
   "source": [
    "One of the notable categories is the **Unknown** category. This category may contain a numeric genre_id that is not specified in the `tmdb_genre_list` dictionary, or have no numeric id. Since there are 2479 entries with the **Unknown** out of about 26500, we decide to drop the movies that have the **Unknown** category."
   ]
  },
  {
   "cell_type": "code",
   "execution_count": 39,
   "metadata": {},
   "outputs": [
    {
     "name": "stdout",
     "output_type": "stream",
     "text": [
      "<class 'pandas.core.frame.DataFrame'>\n",
      "Index: 2059 entries, 0 to 2179\n",
      "Data columns (total 16 columns):\n",
      " #   Column             Non-Null Count  Dtype  \n",
      "---  ------             --------------  -----  \n",
      " 0   index              2059 non-null   int64  \n",
      " 1   genre_ids          2059 non-null   object \n",
      " 2   id_x               2059 non-null   int64  \n",
      " 3   popularity         2059 non-null   float64\n",
      " 4   release_date_x     2059 non-null   object \n",
      " 5   vote_average       2059 non-null   float64\n",
      " 6   vote_count         2059 non-null   int64  \n",
      " 7   id_y               2059 non-null   int64  \n",
      " 8   movie              2059 non-null   object \n",
      " 9   production_budget  2059 non-null   float64\n",
      " 10  domestic_gross     2059 non-null   float64\n",
      " 11  worldwide_gross    2059 non-null   float64\n",
      " 12  profit             2059 non-null   int64  \n",
      " 13  roi                2059 non-null   float64\n",
      " 14  release_year       2059 non-null   int64  \n",
      " 15  genre              2059 non-null   object \n",
      "dtypes: float64(6), int64(6), object(4)\n",
      "memory usage: 273.5+ KB\n"
     ]
    }
   ],
   "source": [
    "# Dropping the Unknown movies\n",
    "tmdb_movie = tmdb_movie.loc[tmdb_movie['genre'] != 'Unknown']\n",
    "tmdb_movie.info()"
   ]
  },
  {
   "cell_type": "code",
   "execution_count": 40,
   "metadata": {},
   "outputs": [
    {
     "data": {
      "text/html": [
       "<div>\n",
       "<style scoped>\n",
       "    .dataframe tbody tr th:only-of-type {\n",
       "        vertical-align: middle;\n",
       "    }\n",
       "\n",
       "    .dataframe tbody tr th {\n",
       "        vertical-align: top;\n",
       "    }\n",
       "\n",
       "    .dataframe thead th {\n",
       "        text-align: right;\n",
       "    }\n",
       "</style>\n",
       "<table border=\"1\" class=\"dataframe\">\n",
       "  <thead>\n",
       "    <tr style=\"text-align: right;\">\n",
       "      <th></th>\n",
       "      <th>index</th>\n",
       "      <th>genre_ids</th>\n",
       "      <th>id_x</th>\n",
       "      <th>popularity</th>\n",
       "      <th>release_date_x</th>\n",
       "      <th>vote_average</th>\n",
       "      <th>vote_count</th>\n",
       "      <th>id_y</th>\n",
       "      <th>movie</th>\n",
       "      <th>production_budget</th>\n",
       "      <th>...</th>\n",
       "      <th>roi</th>\n",
       "      <th>release_year</th>\n",
       "      <th>genre</th>\n",
       "      <th>main_genre</th>\n",
       "      <th>genre2</th>\n",
       "      <th>genre3</th>\n",
       "      <th>genre4</th>\n",
       "      <th>genre5</th>\n",
       "      <th>genre6</th>\n",
       "      <th>genre7</th>\n",
       "    </tr>\n",
       "  </thead>\n",
       "  <tbody>\n",
       "    <tr>\n",
       "      <th>0</th>\n",
       "      <td>0.0</td>\n",
       "      <td>[14, 12, 16, 10751]</td>\n",
       "      <td>10191.0</td>\n",
       "      <td>28.734</td>\n",
       "      <td>2010-03-26</td>\n",
       "      <td>7.7</td>\n",
       "      <td>7610.0</td>\n",
       "      <td>30.0</td>\n",
       "      <td>How To Train Your Dragon</td>\n",
       "      <td>165000000.0</td>\n",
       "      <td>...</td>\n",
       "      <td>299.921813</td>\n",
       "      <td>2010.0</td>\n",
       "      <td>[Fantasy, Adventure, Animation, Family]</td>\n",
       "      <td>Fantasy</td>\n",
       "      <td>Adventure</td>\n",
       "      <td>Animation</td>\n",
       "      <td>Family</td>\n",
       "      <td>None</td>\n",
       "      <td>None</td>\n",
       "      <td>None</td>\n",
       "    </tr>\n",
       "    <tr>\n",
       "      <th>1</th>\n",
       "      <td>1.0</td>\n",
       "      <td>[12, 28, 878]</td>\n",
       "      <td>10138.0</td>\n",
       "      <td>28.515</td>\n",
       "      <td>2010-05-07</td>\n",
       "      <td>6.8</td>\n",
       "      <td>12368.0</td>\n",
       "      <td>15.0</td>\n",
       "      <td>Iron Man 2</td>\n",
       "      <td>170000000.0</td>\n",
       "      <td>...</td>\n",
       "      <td>365.386111</td>\n",
       "      <td>2010.0</td>\n",
       "      <td>[Adventure, Action, ScienceFiction]</td>\n",
       "      <td>Adventure</td>\n",
       "      <td>Action</td>\n",
       "      <td>ScienceFiction</td>\n",
       "      <td>None</td>\n",
       "      <td>None</td>\n",
       "      <td>None</td>\n",
       "      <td>None</td>\n",
       "    </tr>\n",
       "    <tr>\n",
       "      <th>3</th>\n",
       "      <td>3.0</td>\n",
       "      <td>[28, 878, 12]</td>\n",
       "      <td>27205.0</td>\n",
       "      <td>27.920</td>\n",
       "      <td>2010-07-16</td>\n",
       "      <td>8.3</td>\n",
       "      <td>22186.0</td>\n",
       "      <td>38.0</td>\n",
       "      <td>Inception</td>\n",
       "      <td>160000000.0</td>\n",
       "      <td>...</td>\n",
       "      <td>522.202901</td>\n",
       "      <td>2010.0</td>\n",
       "      <td>[Action, ScienceFiction, Adventure]</td>\n",
       "      <td>Adventure</td>\n",
       "      <td>Fantasy</td>\n",
       "      <td>Family</td>\n",
       "      <td>None</td>\n",
       "      <td>None</td>\n",
       "      <td>None</td>\n",
       "      <td>None</td>\n",
       "    </tr>\n",
       "    <tr>\n",
       "      <th>4</th>\n",
       "      <td>4.0</td>\n",
       "      <td>[12, 14, 10751]</td>\n",
       "      <td>32657.0</td>\n",
       "      <td>26.691</td>\n",
       "      <td>2010-02-11</td>\n",
       "      <td>6.1</td>\n",
       "      <td>4229.0</td>\n",
       "      <td>17.0</td>\n",
       "      <td>Percy Jackson &amp; The Olympians: The Lightning T...</td>\n",
       "      <td>95000000.0</td>\n",
       "      <td>...</td>\n",
       "      <td>234.790394</td>\n",
       "      <td>2010.0</td>\n",
       "      <td>[Adventure, Fantasy, Family]</td>\n",
       "      <td>Animation</td>\n",
       "      <td>Family</td>\n",
       "      <td>Comedy</td>\n",
       "      <td>None</td>\n",
       "      <td>None</td>\n",
       "      <td>None</td>\n",
       "      <td>None</td>\n",
       "    </tr>\n",
       "    <tr>\n",
       "      <th>6</th>\n",
       "      <td>6.0</td>\n",
       "      <td>[16, 10751, 35]</td>\n",
       "      <td>10193.0</td>\n",
       "      <td>24.445</td>\n",
       "      <td>2010-06-17</td>\n",
       "      <td>7.7</td>\n",
       "      <td>8340.0</td>\n",
       "      <td>47.0</td>\n",
       "      <td>Toy Story 3</td>\n",
       "      <td>200000000.0</td>\n",
       "      <td>...</td>\n",
       "      <td>534.439761</td>\n",
       "      <td>2010.0</td>\n",
       "      <td>[Animation, Family, Comedy]</td>\n",
       "      <td>Animation</td>\n",
       "      <td>Action</td>\n",
       "      <td>Comedy</td>\n",
       "      <td>Family</td>\n",
       "      <td>ScienceFiction</td>\n",
       "      <td>None</td>\n",
       "      <td>None</td>\n",
       "    </tr>\n",
       "  </tbody>\n",
       "</table>\n",
       "<p>5 rows × 23 columns</p>\n",
       "</div>"
      ],
      "text/plain": [
       "   index            genre_ids     id_x  popularity release_date_x   \n",
       "0    0.0  [14, 12, 16, 10751]  10191.0      28.734     2010-03-26  \\\n",
       "1    1.0        [12, 28, 878]  10138.0      28.515     2010-05-07   \n",
       "3    3.0        [28, 878, 12]  27205.0      27.920     2010-07-16   \n",
       "4    4.0      [12, 14, 10751]  32657.0      26.691     2010-02-11   \n",
       "6    6.0      [16, 10751, 35]  10193.0      24.445     2010-06-17   \n",
       "\n",
       "   vote_average  vote_count  id_y   \n",
       "0           7.7      7610.0  30.0  \\\n",
       "1           6.8     12368.0  15.0   \n",
       "3           8.3     22186.0  38.0   \n",
       "4           6.1      4229.0  17.0   \n",
       "6           7.7      8340.0  47.0   \n",
       "\n",
       "                                               movie  production_budget  ...   \n",
       "0                           How To Train Your Dragon        165000000.0  ...  \\\n",
       "1                                         Iron Man 2        170000000.0  ...   \n",
       "3                                          Inception        160000000.0  ...   \n",
       "4  Percy Jackson & The Olympians: The Lightning T...         95000000.0  ...   \n",
       "6                                        Toy Story 3        200000000.0  ...   \n",
       "\n",
       "          roi  release_year                                    genre   \n",
       "0  299.921813        2010.0  [Fantasy, Adventure, Animation, Family]  \\\n",
       "1  365.386111        2010.0      [Adventure, Action, ScienceFiction]   \n",
       "3  522.202901        2010.0      [Action, ScienceFiction, Adventure]   \n",
       "4  234.790394        2010.0             [Adventure, Fantasy, Family]   \n",
       "6  534.439761        2010.0              [Animation, Family, Comedy]   \n",
       "\n",
       "   main_genre     genre2          genre3  genre4          genre5 genre6 genre7  \n",
       "0     Fantasy  Adventure       Animation  Family            None   None   None  \n",
       "1   Adventure     Action  ScienceFiction    None            None   None   None  \n",
       "3   Adventure    Fantasy          Family    None            None   None   None  \n",
       "4   Animation     Family          Comedy    None            None   None   None  \n",
       "6   Animation     Action          Comedy  Family  ScienceFiction   None   None  \n",
       "\n",
       "[5 rows x 23 columns]"
      ]
     },
     "execution_count": 40,
     "metadata": {},
     "output_type": "execute_result"
    }
   ],
   "source": [
    "# Creating 7 columns to store individaul genres for movies that have more than one genre\n",
    "split = pd.DataFrame(tmdb_movie['genre'].to_list(), columns = ['main_genre', 'genre2', 'genre3', 'genre4', 'genre5', 'genre6', 'genre7'])\n",
    "tmdb_movie = pd.concat([tmdb_movie, split], axis=1)\n",
    "tmdb_movie.head()"
   ]
  },
  {
   "cell_type": "code",
   "execution_count": 41,
   "metadata": {},
   "outputs": [
    {
     "name": "stdout",
     "output_type": "stream",
     "text": [
      "<class 'pandas.core.frame.DataFrame'>\n",
      "Index: 1750 entries, 0 to 2166\n",
      "Data columns (total 23 columns):\n",
      " #   Column             Non-Null Count  Dtype  \n",
      "---  ------             --------------  -----  \n",
      " 0   index              1750 non-null   float64\n",
      " 1   genre_ids          1750 non-null   object \n",
      " 2   id_x               1750 non-null   float64\n",
      " 3   popularity         1750 non-null   float64\n",
      " 4   release_date_x     1750 non-null   object \n",
      " 5   vote_average       1750 non-null   float64\n",
      " 6   vote_count         1750 non-null   float64\n",
      " 7   id_y               1750 non-null   float64\n",
      " 8   movie              1750 non-null   object \n",
      " 9   production_budget  1750 non-null   float64\n",
      " 10  domestic_gross     1750 non-null   float64\n",
      " 11  worldwide_gross    1750 non-null   float64\n",
      " 12  profit             1750 non-null   float64\n",
      " 13  roi                1750 non-null   float64\n",
      " 14  release_year       1750 non-null   float64\n",
      " 15  genre              1750 non-null   object \n",
      " 16  main_genre         1650 non-null   object \n",
      " 17  genre2             1239 non-null   object \n",
      " 18  genre3             704 non-null    object \n",
      " 19  genre4             231 non-null    object \n",
      " 20  genre5             51 non-null     object \n",
      " 21  genre6             6 non-null      object \n",
      " 22  genre7             0 non-null      object \n",
      "dtypes: float64(12), object(11)\n",
      "memory usage: 328.1+ KB\n"
     ]
    }
   ],
   "source": [
    "# Filtering to only analyze from movies with more than 10 votes\n",
    "reviews_more_than_10 = tmdb_movie.loc[tmdb_movie['vote_count'] > 10]\n",
    "reviews_more_than_10.info()"
   ]
  },
  {
   "cell_type": "code",
   "execution_count": 42,
   "metadata": {},
   "outputs": [
    {
     "data": {
      "text/plain": [
       "main_genre\n",
       "Drama             424\n",
       "Comedy            272\n",
       "Action            240\n",
       "Horror            128\n",
       "Thriller          117\n",
       "Adventure          80\n",
       "Documentary        72\n",
       "Crime              64\n",
       "Animation          54\n",
       "Romance            43\n",
       "ScienceFiction     38\n",
       "Fantasy            29\n",
       "Family             25\n",
       "Mystery            21\n",
       "History            13\n",
       "War                12\n",
       "Music              10\n",
       "Western             5\n",
       "TVMovie             3\n",
       "Name: count, dtype: int64"
      ]
     },
     "execution_count": 42,
     "metadata": {},
     "output_type": "execute_result"
    }
   ],
   "source": [
    "# Checking number of movies per genre\n",
    "reviews_more_than_10['main_genre'].value_counts()"
   ]
  },
  {
   "cell_type": "code",
   "execution_count": 43,
   "metadata": {},
   "outputs": [
    {
     "data": {
      "text/plain": [
       "Text(0, 0.5, 'Number of Movies')"
      ]
     },
     "execution_count": 43,
     "metadata": {},
     "output_type": "execute_result"
    },
    {
     "data": {
      "image/png": "[encoded data removed]",
      "text/plain": [
       "<Figure size 1000x500 with 1 Axes>"
      ]
     },
     "metadata": {},
     "output_type": "display_data"
    }
   ],
   "source": [
    "# Visualizing the number of movies in top 7 movie genres\n",
    "# First, creating a dictionary with genres and counts\n",
    "top_7_genres_index = list(reviews_more_than_10['main_genre'].value_counts()[:7].keys())\n",
    "top_7_genre_counts = reviews_more_than_10['main_genre'].value_counts()[:7]\n",
    "top_7_genres = dict(zip(top_7_genres_index, top_7_genre_counts))\n",
    "\n",
    "# Then, sorting them alphabetically for the visualization\n",
    "top_7_genres_index.sort()\n",
    "top_7_genres_sorted = {i: top_7_genres[i] for i in top_7_genres_index}\n",
    "\n",
    "# Visualizing in a bar graph\n",
    "fig, ax = plt.subplots(figsize=(10,5))\n",
    "ax.bar(top_7_genres_sorted.keys(), top_7_genres_sorted.values())\n",
    "ax.set_title(\"Number of Movies in Top 7 Genres\")\n",
    "ax.set_xlabel(\"Top 7 Genres\")\n",
    "ax.set_ylabel(\"Number of Movies\")"
   ]
  },
  {
   "cell_type": "code",
   "execution_count": 44,
   "metadata": {},
   "outputs": [
    {
     "data": {
      "text/plain": [
       "main_genre\n",
       "Action         11.035996\n",
       "Adventure      11.468238\n",
       "Comedy         11.585066\n",
       "Documentary     9.755847\n",
       "Drama          11.657866\n",
       "Horror         12.375922\n",
       "Thriller       12.739650\n",
       "Name: popularity, dtype: float64"
      ]
     },
     "execution_count": 44,
     "metadata": {},
     "output_type": "execute_result"
    }
   ],
   "source": [
    "# Grouping by genre for top 7 genre, and getting the vote average\n",
    "genre_tmdb = reviews_more_than_10.loc[reviews_more_than_10['main_genre'].isin(top_7_genres)].groupby('main_genre')\n",
    "genre_tmdb['vote_average'].mean()\n",
    "genre_tmdb['popularity'].mean()"
   ]
  },
  {
   "cell_type": "code",
   "execution_count": 45,
   "metadata": {},
   "outputs": [
    {
     "data": {
      "text/plain": [
       "<matplotlib.legend.Legend at 0x105253a60>"
      ]
     },
     "execution_count": 45,
     "metadata": {},
     "output_type": "execute_result"
    },
    {
     "data": {
      "image/png": "[encoded data removed]",
      "text/plain": [
       "<Figure size 700x400 with 1 Axes>"
      ]
     },
     "metadata": {},
     "output_type": "display_data"
    }
   ],
   "source": [
    "# Visualizing the top 7 genres and their average ratings\n",
    "fig, ax = plt.subplots(figsize=(7,4), layout='constrained')\n",
    "\n",
    "x = np.arange(len(top_7_genres_sorted))\n",
    "y_rating = genre_tmdb['vote_average'].mean()\n",
    "ax.bar(x - 0.3, y_rating, 0.3, color='orange', label='Rating')\n",
    "\n",
    "y_popularity = genre_tmdb['popularity'].mean()\n",
    "ax.bar(top_7_genres_sorted.keys(), y_popularity, 0.3, color='green', label='Popularity')\n",
    "\n",
    "\n",
    "ax.set_title(\"Average Rating and Popularity for Top 7 Genres\")\n",
    "ax.set_xlabel(\"Top 7 Genres\")\n",
    "ax.set_ylabel(\"Score\")\n",
    "ax.legend()"
   ]
  },
  {
   "cell_type": "code",
   "execution_count": 46,
   "metadata": {},
   "outputs": [
    {
     "data": {
      "image/png": "[encoded data removed]",
      "text/plain": [
       "<Figure size 640x480 with 1 Axes>"
      ]
     },
     "metadata": {},
     "output_type": "display_data"
    }
   ],
   "source": [
    "# Boxplot for popularity\n",
    "top_7_genres_df = reviews_more_than_10.loc[reviews_more_than_10['main_genre'].isin(top_7_genres_index)]\n",
    "top_7_genres_df['main_genre'].value_counts()\n",
    "\n",
    "fig, ax = plt.subplots()\n",
    "sns.boxplot(x=top_7_genres_df['popularity'], y=top_7_genres_df['main_genre'])\n",
    "ax.set_xlim(0,25)\n",
    "ax.set_xticks(range(0,26))\n",
    "plt.show()"
   ]
  },
  {
   "cell_type": "code",
   "execution_count": 47,
   "metadata": {},
   "outputs": [
    {
     "data": {
      "image/png": "[encoded data removed]",
      "text/plain": [
       "<Figure size 640x480 with 1 Axes>"
      ]
     },
     "metadata": {},
     "output_type": "display_data"
    }
   ],
   "source": [
    "# Boxplot for vote average\n",
    "fig, ax = plt.subplots()\n",
    "sns.boxplot(x=top_7_genres_df['vote_average'], y=top_7_genres_df['main_genre'])\n",
    "plt.show()"
   ]
  },
  {
   "cell_type": "markdown",
   "metadata": {},
   "source": [
    "### Linear Regression"
   ]
  },
  {
   "cell_type": "code",
   "execution_count": 48,
   "metadata": {},
   "outputs": [
    {
     "data": {
      "text/plain": [
       "0"
      ]
     },
     "execution_count": 48,
     "metadata": {},
     "output_type": "execute_result"
    }
   ],
   "source": [
    "# Removing null values before running linear regression\n",
    "tmdb_movie['production_budget'].isna().sum()\n",
    "\n",
    "tmdb_movie.dropna(subset='production_budget', inplace=True)\n",
    "tmdb_movie['profit'].isna().sum()"
   ]
  },
  {
   "cell_type": "code",
   "execution_count": 58,
   "metadata": {},
   "outputs": [
    {
     "data": {
      "text/html": [
       "<div>\n",
       "<style scoped>\n",
       "    .dataframe tbody tr th:only-of-type {\n",
       "        vertical-align: middle;\n",
       "    }\n",
       "\n",
       "    .dataframe tbody tr th {\n",
       "        vertical-align: top;\n",
       "    }\n",
       "\n",
       "    .dataframe thead th {\n",
       "        text-align: right;\n",
       "    }\n",
       "</style>\n",
       "<table border=\"1\" class=\"dataframe\">\n",
       "  <thead>\n",
       "    <tr style=\"text-align: right;\">\n",
       "      <th></th>\n",
       "      <th>production_budget</th>\n",
       "      <th>profit</th>\n",
       "    </tr>\n",
       "  </thead>\n",
       "  <tbody>\n",
       "    <tr>\n",
       "      <th>0</th>\n",
       "      <td>0.000165</td>\n",
       "      <td>329.870992</td>\n",
       "    </tr>\n",
       "    <tr>\n",
       "      <th>1</th>\n",
       "      <td>0.000170</td>\n",
       "      <td>451.156389</td>\n",
       "    </tr>\n",
       "    <tr>\n",
       "      <th>3</th>\n",
       "      <td>0.000160</td>\n",
       "      <td>675.524642</td>\n",
       "    </tr>\n",
       "    <tr>\n",
       "      <th>4</th>\n",
       "      <td>0.000095</td>\n",
       "      <td>128.050874</td>\n",
       "    </tr>\n",
       "    <tr>\n",
       "      <th>6</th>\n",
       "      <td>0.000200</td>\n",
       "      <td>868.879522</td>\n",
       "    </tr>\n",
       "    <tr>\n",
       "      <th>...</th>\n",
       "      <td>...</td>\n",
       "      <td>...</td>\n",
       "    </tr>\n",
       "    <tr>\n",
       "      <th>2173</th>\n",
       "      <td>0.000025</td>\n",
       "      <td>9.356760</td>\n",
       "    </tr>\n",
       "    <tr>\n",
       "      <th>2174</th>\n",
       "      <td>0.000025</td>\n",
       "      <td>9.356760</td>\n",
       "    </tr>\n",
       "    <tr>\n",
       "      <th>2176</th>\n",
       "      <td>0.000025</td>\n",
       "      <td>9.356760</td>\n",
       "    </tr>\n",
       "    <tr>\n",
       "      <th>2177</th>\n",
       "      <td>0.000038</td>\n",
       "      <td>12.970660</td>\n",
       "    </tr>\n",
       "    <tr>\n",
       "      <th>2179</th>\n",
       "      <td>0.000012</td>\n",
       "      <td>458.700000</td>\n",
       "    </tr>\n",
       "  </tbody>\n",
       "</table>\n",
       "<p>2059 rows × 2 columns</p>\n",
       "</div>"
      ],
      "text/plain": [
       "      production_budget      profit\n",
       "0              0.000165  329.870992\n",
       "1              0.000170  451.156389\n",
       "3              0.000160  675.524642\n",
       "4              0.000095  128.050874\n",
       "6              0.000200  868.879522\n",
       "...                 ...         ...\n",
       "2173           0.000025    9.356760\n",
       "2174           0.000025    9.356760\n",
       "2176           0.000025    9.356760\n",
       "2177           0.000038   12.970660\n",
       "2179           0.000012  458.700000\n",
       "\n",
       "[2059 rows x 2 columns]"
      ]
     },
     "execution_count": 58,
     "metadata": {},
     "output_type": "execute_result"
    }
   ],
   "source": [
    "# Changing values so that they are in millions for visualization\n",
    "columns = ['production_budget', 'profit']\n",
    "\n",
    "tmdb_movie[columns] = tmdb_movie[columns].apply(lambda x: x/1000000)\n",
    "tmdb_movie[columns]"
   ]
  },
  {
   "cell_type": "code",
   "execution_count": 60,
   "metadata": {},
   "outputs": [
    {
     "data": {
      "text/plain": [
       "<matplotlib.legend.Legend at 0x12eef3550>"
      ]
     },
     "execution_count": 60,
     "metadata": {},
     "output_type": "execute_result"
    },
    {
     "data": {
      "image/png": "[encoded data removed]",
      "text/plain": [
       "<Figure size 640x480 with 1 Axes>"
      ]
     },
     "metadata": {},
     "output_type": "display_data"
    }
   ],
   "source": [
    "# Baseline model is the overall average profit across all movies \n",
    "X = tmdb_movie['production_budget'].values\n",
    "y = tmdb_movie['profit'].values\n",
    "\n",
    "plt.scatter(X, y)\n",
    "\n",
    "xmin, xmax = plt.xlim()\n",
    "plt.hlines(y=y.mean(),\n",
    "            xmin=xmin, xmax=xmax,\n",
    "            label=\"Average Profit Across All Movies\",\n",
    "            colors='orange')\n",
    "\n",
    "plt.legend()"
   ]
  },
  {
   "cell_type": "markdown",
   "metadata": {},
   "source": [
    "#### Linear Regression Model Between Production Budget and Profit"
   ]
  },
  {
   "cell_type": "code",
   "execution_count": 51,
   "metadata": {},
   "outputs": [],
   "source": [
    "from sklearn.linear_model import LinearRegression"
   ]
  },
  {
   "cell_type": "code",
   "execution_count": 52,
   "metadata": {},
   "outputs": [],
   "source": [
    "lr = LinearRegression()"
   ]
  },
  {
   "cell_type": "code",
   "execution_count": 61,
   "metadata": {},
   "outputs": [
    {
     "data": {
      "text/html": [
       "<style>#sk-container-id-3 {color: black;background-color: white;}#sk-container-id-3 pre{padding: 0;}#sk-container-id-3 div.sk-toggleable {background-color: white;}#sk-container-id-3 label.sk-toggleable__label {cursor: pointer;display: block;width: 100%;margin-bottom: 0;padding: 0.3em;box-sizing: border-box;text-align: center;}#sk-container-id-3 label.sk-toggleable__label-arrow:before {content: \"▸\";float: left;margin-right: 0.25em;color: #696969;}#sk-container-id-3 label.sk-toggleable__label-arrow:hover:before {color: black;}#sk-container-id-3 div.sk-estimator:hover label.sk-toggleable__label-arrow:before {color: black;}#sk-container-id-3 div.sk-toggleable__content {max-height: 0;max-width: 0;overflow: hidden;text-align: left;background-color: #f0f8ff;}#sk-container-id-3 div.sk-toggleable__content pre {margin: 0.2em;color: black;border-radius: 0.25em;background-color: #f0f8ff;}#sk-container-id-3 input.sk-toggleable__control:checked~div.sk-toggleable__content {max-height: 200px;max-width: 100%;overflow: auto;}#sk-container-id-3 input.sk-toggleable__control:checked~label.sk-toggleable__label-arrow:before {content: \"▾\";}#sk-container-id-3 div.sk-estimator input.sk-toggleable__control:checked~label.sk-toggleable__label {background-color: #d4ebff;}#sk-container-id-3 div.sk-label input.sk-toggleable__control:checked~label.sk-toggleable__label {background-color: #d4ebff;}#sk-container-id-3 input.sk-hidden--visually {border: 0;clip: rect(1px 1px 1px 1px);clip: rect(1px, 1px, 1px, 1px);height: 1px;margin: -1px;overflow: hidden;padding: 0;position: absolute;width: 1px;}#sk-container-id-3 div.sk-estimator {font-family: monospace;background-color: #f0f8ff;border: 1px dotted black;border-radius: 0.25em;box-sizing: border-box;margin-bottom: 0.5em;}#sk-container-id-3 div.sk-estimator:hover {background-color: #d4ebff;}#sk-container-id-3 div.sk-parallel-item::after {content: \"\";width: 100%;border-bottom: 1px solid gray;flex-grow: 1;}#sk-container-id-3 div.sk-label:hover label.sk-toggleable__label {background-color: #d4ebff;}#sk-container-id-3 div.sk-serial::before {content: \"\";position: absolute;border-left: 1px solid gray;box-sizing: border-box;top: 0;bottom: 0;left: 50%;z-index: 0;}#sk-container-id-3 div.sk-serial {display: flex;flex-direction: column;align-items: center;background-color: white;padding-right: 0.2em;padding-left: 0.2em;position: relative;}#sk-container-id-3 div.sk-item {position: relative;z-index: 1;}#sk-container-id-3 div.sk-parallel {display: flex;align-items: stretch;justify-content: center;background-color: white;position: relative;}#sk-container-id-3 div.sk-item::before, #sk-container-id-3 div.sk-parallel-item::before {content: \"\";position: absolute;border-left: 1px solid gray;box-sizing: border-box;top: 0;bottom: 0;left: 50%;z-index: -1;}#sk-container-id-3 div.sk-parallel-item {display: flex;flex-direction: column;z-index: 1;position: relative;background-color: white;}#sk-container-id-3 div.sk-parallel-item:first-child::after {align-self: flex-end;width: 50%;}#sk-container-id-3 div.sk-parallel-item:last-child::after {align-self: flex-start;width: 50%;}#sk-container-id-3 div.sk-parallel-item:only-child::after {width: 0;}#sk-container-id-3 div.sk-dashed-wrapped {border: 1px dashed gray;margin: 0 0.4em 0.5em 0.4em;box-sizing: border-box;padding-bottom: 0.4em;background-color: white;}#sk-container-id-3 div.sk-label label {font-family: monospace;font-weight: bold;display: inline-block;line-height: 1.2em;}#sk-container-id-3 div.sk-label-container {text-align: center;}#sk-container-id-3 div.sk-container {/* jupyter's `normalize.less` sets `[hidden] { display: none; }` but bootstrap.min.css set `[hidden] { display: none !important; }` so we also need the `!important` here to be able to override the default hidden behavior on the sphinx rendered scikit-learn.org. See: https://github.com/scikit-learn/scikit-learn/issues/21755 */display: inline-block !important;position: relative;}#sk-container-id-3 div.sk-text-repr-fallback {display: none;}</style><div id=\"sk-container-id-3\" class=\"sk-top-container\"><div class=\"sk-text-repr-fallback\"><pre>LinearRegression()</pre><b>In a Jupyter environment, please rerun this cell to show the HTML representation or trust the notebook. <br />On GitHub, the HTML representation is unable to render, please try loading this page with nbviewer.org.</b></div><div class=\"sk-container\" hidden><div class=\"sk-item\"><div class=\"sk-estimator sk-toggleable\"><input class=\"sk-toggleable__control sk-hidden--visually\" id=\"sk-estimator-id-3\" type=\"checkbox\" checked><label for=\"sk-estimator-id-3\" class=\"sk-toggleable__label sk-toggleable__label-arrow\">LinearRegression</label><div class=\"sk-toggleable__content\"><pre>LinearRegression()</pre></div></div></div></div></div>"
      ],
      "text/plain": [
       "LinearRegression()"
      ]
     },
     "execution_count": 61,
     "metadata": {},
     "output_type": "execute_result"
    }
   ],
   "source": [
    "lr.fit(tmdb_movie[['production_budget']], y)"
   ]
  },
  {
   "cell_type": "code",
   "execution_count": 62,
   "metadata": {},
   "outputs": [],
   "source": [
    "# Getting our linear regression model\n",
    "m = lr.coef_\n",
    "b = lr.intercept_\n",
    "lm_model = m*tmdb_movie['production_budget'].values + b"
   ]
  },
  {
   "cell_type": "code",
   "execution_count": 63,
   "metadata": {},
   "outputs": [
    {
     "data": {
      "text/plain": [
       "<matplotlib.legend.Legend at 0x12ef6da80>"
      ]
     },
     "execution_count": 63,
     "metadata": {},
     "output_type": "execute_result"
    },
    {
     "data": {
      "image/png": "[encoded data removed]",
      "text/plain": [
       "<Figure size 640x480 with 1 Axes>"
      ]
     },
     "metadata": {},
     "output_type": "display_data"
    }
   ],
   "source": [
    "# Creating a scatter plot with the baseline model and the linear regression model\n",
    "plt.scatter(X, y)\n",
    "plt.plot(tmdb_movie['production_budget'].values, \n",
    "        lm_model, \n",
    "        label = 'Line of Best Fit for Profit',\n",
    "        color='red')\n",
    "\n",
    "xmin, xmax = plt.xlim()\n",
    "plt.hlines(y=y.mean(),\n",
    "            xmin=xmin, xmax=xmax,\n",
    "            label=\"Average Profit Across All Movies\",\n",
    "            colors='orange')\n",
    "\n",
    "plt.xlabel('Production Budget ($1,000,000)')\n",
    "plt.ylabel('Profit ($1,000,000)')\n",
    "plt.legend()\n",
    "# same as this\n",
    "# sns.lmplot(x='production_budget', y='worldwide_gross', data=tn_movie_budgets)"
   ]
  },
  {
   "cell_type": "code",
   "execution_count": 56,
   "metadata": {},
   "outputs": [],
   "source": [
    "from sklearn.metrics import r2_score\n",
    "from sklearn.metrics import mean_squared_error, mean_absolute_error"
   ]
  },
  {
   "cell_type": "code",
   "execution_count": 64,
   "metadata": {},
   "outputs": [
    {
     "data": {
      "text/plain": [
       "0.4631982713370797"
      ]
     },
     "execution_count": 64,
     "metadata": {},
     "output_type": "execute_result"
    }
   ],
   "source": [
    "# Calculating metrics to evaluate the model\n",
    "r2_score(y, lm_model)"
   ]
  },
  {
   "cell_type": "code",
   "execution_count": 65,
   "metadata": {},
   "outputs": [
    {
     "data": {
      "text/plain": [
       "17165.47660487267"
      ]
     },
     "execution_count": 65,
     "metadata": {},
     "output_type": "execute_result"
    }
   ],
   "source": [
    "mean_squared_error(y, lm_model)"
   ]
  },
  {
   "cell_type": "code",
   "execution_count": 67,
   "metadata": {},
   "outputs": [
    {
     "data": {
      "text/plain": [
       "0.0"
      ]
     },
     "execution_count": 67,
     "metadata": {},
     "output_type": "execute_result"
    }
   ],
   "source": [
    "# Comparing with our baseline model\n",
    "base_model = 0*tmdb_movie['production_budget'].values + y.mean()\n",
    "r2_score(y, base_model)"
   ]
  },
  {
   "cell_type": "code",
   "execution_count": 68,
   "metadata": {},
   "outputs": [
    {
     "data": {
      "text/plain": [
       "31977.31245692686"
      ]
     },
     "execution_count": 68,
     "metadata": {},
     "output_type": "execute_result"
    }
   ],
   "source": [
    "mean_squared_error(y, base_model)"
   ]
  },
  {
   "cell_type": "code",
   "execution_count": 36,
   "metadata": {},
   "outputs": [
    {
     "data": {
      "text/html": [
       "<div>\n",
       "<style scoped>\n",
       "    .dataframe tbody tr th:only-of-type {\n",
       "        vertical-align: middle;\n",
       "    }\n",
       "\n",
       "    .dataframe tbody tr th {\n",
       "        vertical-align: top;\n",
       "    }\n",
       "\n",
       "    .dataframe thead th {\n",
       "        text-align: right;\n",
       "    }\n",
       "</style>\n",
       "<table border=\"1\" class=\"dataframe\">\n",
       "  <thead>\n",
       "    <tr style=\"text-align: right;\">\n",
       "      <th></th>\n",
       "      <th>id</th>\n",
       "      <th>synopsis</th>\n",
       "      <th>rating</th>\n",
       "      <th>genre</th>\n",
       "      <th>director</th>\n",
       "      <th>writer</th>\n",
       "      <th>theater_date</th>\n",
       "      <th>dvd_date</th>\n",
       "      <th>currency</th>\n",
       "      <th>box_office</th>\n",
       "      <th>runtime</th>\n",
       "      <th>studio</th>\n",
       "    </tr>\n",
       "  </thead>\n",
       "  <tbody>\n",
       "    <tr>\n",
       "      <th>0</th>\n",
       "      <td>1</td>\n",
       "      <td>This gritty, fast-paced, and innovative police...</td>\n",
       "      <td>R</td>\n",
       "      <td>Action and Adventure|Classics|Drama</td>\n",
       "      <td>William Friedkin</td>\n",
       "      <td>Ernest Tidyman</td>\n",
       "      <td>Oct 9, 1971</td>\n",
       "      <td>Sep 25, 2001</td>\n",
       "      <td>NaN</td>\n",
       "      <td>NaN</td>\n",
       "      <td>104 minutes</td>\n",
       "      <td>NaN</td>\n",
       "    </tr>\n",
       "    <tr>\n",
       "      <th>1</th>\n",
       "      <td>3</td>\n",
       "      <td>New York City, not-too-distant-future: Eric Pa...</td>\n",
       "      <td>R</td>\n",
       "      <td>Drama|Science Fiction and Fantasy</td>\n",
       "      <td>David Cronenberg</td>\n",
       "      <td>David Cronenberg|Don DeLillo</td>\n",
       "      <td>Aug 17, 2012</td>\n",
       "      <td>Jan 1, 2013</td>\n",
       "      <td>$</td>\n",
       "      <td>600,000</td>\n",
       "      <td>108 minutes</td>\n",
       "      <td>Entertainment One</td>\n",
       "    </tr>\n",
       "    <tr>\n",
       "      <th>2</th>\n",
       "      <td>5</td>\n",
       "      <td>Illeana Douglas delivers a superb performance ...</td>\n",
       "      <td>R</td>\n",
       "      <td>Drama|Musical and Performing Arts</td>\n",
       "      <td>Allison Anders</td>\n",
       "      <td>Allison Anders</td>\n",
       "      <td>Sep 13, 1996</td>\n",
       "      <td>Apr 18, 2000</td>\n",
       "      <td>NaN</td>\n",
       "      <td>NaN</td>\n",
       "      <td>116 minutes</td>\n",
       "      <td>NaN</td>\n",
       "    </tr>\n",
       "    <tr>\n",
       "      <th>3</th>\n",
       "      <td>6</td>\n",
       "      <td>Michael Douglas runs afoul of a treacherous su...</td>\n",
       "      <td>R</td>\n",
       "      <td>Drama|Mystery and Suspense</td>\n",
       "      <td>Barry Levinson</td>\n",
       "      <td>Paul Attanasio|Michael Crichton</td>\n",
       "      <td>Dec 9, 1994</td>\n",
       "      <td>Aug 27, 1997</td>\n",
       "      <td>NaN</td>\n",
       "      <td>NaN</td>\n",
       "      <td>128 minutes</td>\n",
       "      <td>NaN</td>\n",
       "    </tr>\n",
       "    <tr>\n",
       "      <th>4</th>\n",
       "      <td>7</td>\n",
       "      <td>NaN</td>\n",
       "      <td>NR</td>\n",
       "      <td>Drama|Romance</td>\n",
       "      <td>Rodney Bennett</td>\n",
       "      <td>Giles Cooper</td>\n",
       "      <td>NaN</td>\n",
       "      <td>NaN</td>\n",
       "      <td>NaN</td>\n",
       "      <td>NaN</td>\n",
       "      <td>200 minutes</td>\n",
       "      <td>NaN</td>\n",
       "    </tr>\n",
       "  </tbody>\n",
       "</table>\n",
       "</div>"
      ],
      "text/plain": [
       "   id                                           synopsis rating   \n",
       "0   1  This gritty, fast-paced, and innovative police...      R  \\\n",
       "1   3  New York City, not-too-distant-future: Eric Pa...      R   \n",
       "2   5  Illeana Douglas delivers a superb performance ...      R   \n",
       "3   6  Michael Douglas runs afoul of a treacherous su...      R   \n",
       "4   7                                                NaN     NR   \n",
       "\n",
       "                                 genre          director   \n",
       "0  Action and Adventure|Classics|Drama  William Friedkin  \\\n",
       "1    Drama|Science Fiction and Fantasy  David Cronenberg   \n",
       "2    Drama|Musical and Performing Arts    Allison Anders   \n",
       "3           Drama|Mystery and Suspense    Barry Levinson   \n",
       "4                        Drama|Romance    Rodney Bennett   \n",
       "\n",
       "                            writer  theater_date      dvd_date currency   \n",
       "0                   Ernest Tidyman   Oct 9, 1971  Sep 25, 2001      NaN  \\\n",
       "1     David Cronenberg|Don DeLillo  Aug 17, 2012   Jan 1, 2013        $   \n",
       "2                   Allison Anders  Sep 13, 1996  Apr 18, 2000      NaN   \n",
       "3  Paul Attanasio|Michael Crichton   Dec 9, 1994  Aug 27, 1997      NaN   \n",
       "4                     Giles Cooper           NaN           NaN      NaN   \n",
       "\n",
       "  box_office      runtime             studio  \n",
       "0        NaN  104 minutes                NaN  \n",
       "1    600,000  108 minutes  Entertainment One  \n",
       "2        NaN  116 minutes                NaN  \n",
       "3        NaN  128 minutes                NaN  \n",
       "4        NaN  200 minutes                NaN  "
      ]
     },
     "execution_count": 36,
     "metadata": {},
     "output_type": "execute_result"
    }
   ],
   "source": [
    "movie_info = pd.read_table(\"zippedData/rt.movie_info.tsv.gz\")\n",
    "movie_info.head()\n"
   ]
  },
  {
   "cell_type": "code",
   "execution_count": 28,
   "metadata": {},
   "outputs": [
    {
     "data": {
      "text/plain": [
       "id\n",
       "782     338\n",
       "1067    275\n",
       "1525    262\n",
       "1777    260\n",
       "1083    260\n",
       "       ... \n",
       "1393      1\n",
       "411       1\n",
       "770       1\n",
       "1125      1\n",
       "1526      1\n",
       "Name: count, Length: 1135, dtype: int64"
      ]
     },
     "execution_count": 28,
     "metadata": {},
     "output_type": "execute_result"
    }
   ],
   "source": [
    "reviews = pd.read_csv(\"zippedData/rt.reviews.tsv.gz\", sep='\\t', encoding='latin1')\n",
    "reviews['id'].value_counts()"
   ]
  },
  {
   "cell_type": "code",
   "execution_count": 35,
   "metadata": {},
   "outputs": [
    {
     "data": {
      "text/plain": [
       "count    1135.000000\n",
       "mean       43.056388\n",
       "std        56.670793\n",
       "min         0.000000\n",
       "25%         4.000000\n",
       "50%        15.000000\n",
       "75%        67.000000\n",
       "max       338.000000\n",
       "Name: review, dtype: float64"
      ]
     },
     "execution_count": 35,
     "metadata": {},
     "output_type": "execute_result"
    }
   ],
   "source": [
    "grouped_reviews = reviews.groupby('id')\n",
    "grouped_reviews.count()['review'].describe()"
   ]
  },
  {
   "cell_type": "markdown",
   "metadata": {},
   "source": [
    "In order to unzip the database file, run the following prompt in terminal\n",
    "\n",
    "`tar -xf \"zippedData/im.db.zip\"`"
   ]
  },
  {
   "cell_type": "code",
   "execution_count": 4,
   "metadata": {},
   "outputs": [],
   "source": [
    "conn = sqlite3.connect(\"im.db\")\n"
   ]
  },
  {
   "cell_type": "code",
   "execution_count": 4,
   "metadata": {},
   "outputs": [
    {
     "data": {
      "text/html": [
       "<div>\n",
       "<style scoped>\n",
       "    .dataframe tbody tr th:only-of-type {\n",
       "        vertical-align: middle;\n",
       "    }\n",
       "\n",
       "    .dataframe tbody tr th {\n",
       "        vertical-align: top;\n",
       "    }\n",
       "\n",
       "    .dataframe thead th {\n",
       "        text-align: right;\n",
       "    }\n",
       "</style>\n",
       "<table border=\"1\" class=\"dataframe\">\n",
       "  <thead>\n",
       "    <tr style=\"text-align: right;\">\n",
       "      <th></th>\n",
       "      <th>person_id</th>\n",
       "      <th>primary_name</th>\n",
       "      <th>birth_year</th>\n",
       "      <th>death_year</th>\n",
       "      <th>primary_profession</th>\n",
       "    </tr>\n",
       "  </thead>\n",
       "  <tbody>\n",
       "    <tr>\n",
       "      <th>0</th>\n",
       "      <td>nm0061671</td>\n",
       "      <td>Mary Ellen Bauder</td>\n",
       "      <td>NaN</td>\n",
       "      <td>NaN</td>\n",
       "      <td>miscellaneous,production_manager,producer</td>\n",
       "    </tr>\n",
       "    <tr>\n",
       "      <th>1</th>\n",
       "      <td>nm0061865</td>\n",
       "      <td>Joseph Bauer</td>\n",
       "      <td>NaN</td>\n",
       "      <td>NaN</td>\n",
       "      <td>composer,music_department,sound_department</td>\n",
       "    </tr>\n",
       "    <tr>\n",
       "      <th>2</th>\n",
       "      <td>nm0062070</td>\n",
       "      <td>Bruce Baum</td>\n",
       "      <td>NaN</td>\n",
       "      <td>NaN</td>\n",
       "      <td>miscellaneous,actor,writer</td>\n",
       "    </tr>\n",
       "    <tr>\n",
       "      <th>3</th>\n",
       "      <td>nm0062195</td>\n",
       "      <td>Axel Baumann</td>\n",
       "      <td>NaN</td>\n",
       "      <td>NaN</td>\n",
       "      <td>camera_department,cinematographer,art_department</td>\n",
       "    </tr>\n",
       "    <tr>\n",
       "      <th>4</th>\n",
       "      <td>nm0062798</td>\n",
       "      <td>Pete Baxter</td>\n",
       "      <td>NaN</td>\n",
       "      <td>NaN</td>\n",
       "      <td>production_designer,art_department,set_decorator</td>\n",
       "    </tr>\n",
       "    <tr>\n",
       "      <th>...</th>\n",
       "      <td>...</td>\n",
       "      <td>...</td>\n",
       "      <td>...</td>\n",
       "      <td>...</td>\n",
       "      <td>...</td>\n",
       "    </tr>\n",
       "    <tr>\n",
       "      <th>606643</th>\n",
       "      <td>nm9990381</td>\n",
       "      <td>Susan Grobes</td>\n",
       "      <td>NaN</td>\n",
       "      <td>NaN</td>\n",
       "      <td>actress</td>\n",
       "    </tr>\n",
       "    <tr>\n",
       "      <th>606644</th>\n",
       "      <td>nm9990690</td>\n",
       "      <td>Joo Yeon So</td>\n",
       "      <td>NaN</td>\n",
       "      <td>NaN</td>\n",
       "      <td>actress</td>\n",
       "    </tr>\n",
       "    <tr>\n",
       "      <th>606645</th>\n",
       "      <td>nm9991320</td>\n",
       "      <td>Madeline Smith</td>\n",
       "      <td>NaN</td>\n",
       "      <td>NaN</td>\n",
       "      <td>actress</td>\n",
       "    </tr>\n",
       "    <tr>\n",
       "      <th>606646</th>\n",
       "      <td>nm9991786</td>\n",
       "      <td>Michelle Modigliani</td>\n",
       "      <td>NaN</td>\n",
       "      <td>NaN</td>\n",
       "      <td>producer</td>\n",
       "    </tr>\n",
       "    <tr>\n",
       "      <th>606647</th>\n",
       "      <td>nm9993380</td>\n",
       "      <td>Pegasus Envoyé</td>\n",
       "      <td>NaN</td>\n",
       "      <td>NaN</td>\n",
       "      <td>director,actor,writer</td>\n",
       "    </tr>\n",
       "  </tbody>\n",
       "</table>\n",
       "<p>606648 rows × 5 columns</p>\n",
       "</div>"
      ],
      "text/plain": [
       "        person_id         primary_name  birth_year  death_year   \n",
       "0       nm0061671    Mary Ellen Bauder         NaN         NaN  \\\n",
       "1       nm0061865         Joseph Bauer         NaN         NaN   \n",
       "2       nm0062070           Bruce Baum         NaN         NaN   \n",
       "3       nm0062195         Axel Baumann         NaN         NaN   \n",
       "4       nm0062798          Pete Baxter         NaN         NaN   \n",
       "...           ...                  ...         ...         ...   \n",
       "606643  nm9990381         Susan Grobes         NaN         NaN   \n",
       "606644  nm9990690          Joo Yeon So         NaN         NaN   \n",
       "606645  nm9991320       Madeline Smith         NaN         NaN   \n",
       "606646  nm9991786  Michelle Modigliani         NaN         NaN   \n",
       "606647  nm9993380       Pegasus Envoyé         NaN         NaN   \n",
       "\n",
       "                                      primary_profession  \n",
       "0              miscellaneous,production_manager,producer  \n",
       "1             composer,music_department,sound_department  \n",
       "2                             miscellaneous,actor,writer  \n",
       "3       camera_department,cinematographer,art_department  \n",
       "4       production_designer,art_department,set_decorator  \n",
       "...                                                  ...  \n",
       "606643                                           actress  \n",
       "606644                                           actress  \n",
       "606645                                           actress  \n",
       "606646                                          producer  \n",
       "606647                             director,actor,writer  \n",
       "\n",
       "[606648 rows x 5 columns]"
      ]
     },
     "execution_count": 4,
     "metadata": {},
     "output_type": "execute_result"
    }
   ],
   "source": [
    "pd.read_sql(\"\"\"\n",
    "SELECT *\n",
    "FROM persons\n",
    "\"\"\", conn)"
   ]
  }
 ],
 "metadata": {
  "kernelspec": {
   "display_name": "Python 3.10.2 64-bit",
   "language": "python",
   "name": "python3"
  },
  "language_info": {
   "codemirror_mode": {
    "name": "ipython",
    "version": 3
   },
   "file_extension": ".py",
   "mimetype": "text/x-python",
   "name": "python",
   "nbconvert_exporter": "python",
   "pygments_lexer": "ipython3",
   "version": "3.10.2"
  },
  "vscode": {
   "interpreter": {
    "hash": "aee8b7b246df8f9039afb4144a1f6fd8d2ca17a180786b69acc140d282b71a49"
   }
  }
 },
 "nbformat": 4,
 "nbformat_minor": 2
}

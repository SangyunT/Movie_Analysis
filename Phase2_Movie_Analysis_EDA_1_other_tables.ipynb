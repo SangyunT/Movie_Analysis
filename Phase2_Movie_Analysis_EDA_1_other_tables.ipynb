{
  "nbformat": 4,
  "nbformat_minor": 0,
  "metadata": {
    "colab": {
      "provenance": []
    },
    "kernelspec": {
      "name": "python3",
      "display_name": "Python 3"
    },
    "language_info": {
      "name": "python"
    }
  },
  "cells": [
    {
      "cell_type": "markdown",
      "source": [
        "##Post EDA Reminders\n",
        "\n",
        "* **Two tables only go up to 2018**\n",
        "  * Tables and years:\n",
        "    * rt.movie_info (1921 - 2018)\n",
        "    * bom_movie_gross_df (2010-2018)\n",
        "    * tmdb (1921 - 2020)\n",
        "    * imdb movie_basics (2010 - 2115)\n",
        "    * tn movie budget (1915 - 2020)\n",
        "\n",
        "* **These do not have genre information:**\n",
        "  * tn\n",
        "  * bom\n"
      ],
      "metadata": {
        "id": "ClD_8Kw6iVEI"
      }
    },
    {
      "cell_type": "markdown",
      "source": [
        "##Importing and reading in files"
      ],
      "metadata": {
        "id": "bN0TpLBxLShb"
      }
    },
    {
      "cell_type": "code",
      "execution_count": null,
      "metadata": {
        "colab": {
          "base_uri": "https://localhost:8080/",
          "height": 177
        },
        "id": "c91ZZYQ03WZm",
        "outputId": "dbfd35a9-9018-4e35-ed0b-a6b62ae564cb"
      },
      "outputs": [
        {
          "output_type": "display_data",
          "data": {
            "text/plain": [
              "<IPython.core.display.HTML object>"
            ],
            "text/html": [
              "\n",
              "     <input type=\"file\" id=\"files-99616906-2d95-4904-a066-969f3a75ff6b\" name=\"files[]\" multiple disabled\n",
              "        style=\"border:none\" />\n",
              "     <output id=\"result-99616906-2d95-4904-a066-969f3a75ff6b\">\n",
              "      Upload widget is only available when the cell has been executed in the\n",
              "      current browser session. Please rerun this cell to enable.\n",
              "      </output>\n",
              "      <script>// Copyright 2017 Google LLC\n",
              "//\n",
              "// Licensed under the Apache License, Version 2.0 (the \"License\");\n",
              "// you may not use this file except in compliance with the License.\n",
              "// You may obtain a copy of the License at\n",
              "//\n",
              "//      http://www.apache.org/licenses/LICENSE-2.0\n",
              "//\n",
              "// Unless required by applicable law or agreed to in writing, software\n",
              "// distributed under the License is distributed on an \"AS IS\" BASIS,\n",
              "// WITHOUT WARRANTIES OR CONDITIONS OF ANY KIND, either express or implied.\n",
              "// See the License for the specific language governing permissions and\n",
              "// limitations under the License.\n",
              "\n",
              "/**\n",
              " * @fileoverview Helpers for google.colab Python module.\n",
              " */\n",
              "(function(scope) {\n",
              "function span(text, styleAttributes = {}) {\n",
              "  const element = document.createElement('span');\n",
              "  element.textContent = text;\n",
              "  for (const key of Object.keys(styleAttributes)) {\n",
              "    element.style[key] = styleAttributes[key];\n",
              "  }\n",
              "  return element;\n",
              "}\n",
              "\n",
              "// Max number of bytes which will be uploaded at a time.\n",
              "const MAX_PAYLOAD_SIZE = 100 * 1024;\n",
              "\n",
              "function _uploadFiles(inputId, outputId) {\n",
              "  const steps = uploadFilesStep(inputId, outputId);\n",
              "  const outputElement = document.getElementById(outputId);\n",
              "  // Cache steps on the outputElement to make it available for the next call\n",
              "  // to uploadFilesContinue from Python.\n",
              "  outputElement.steps = steps;\n",
              "\n",
              "  return _uploadFilesContinue(outputId);\n",
              "}\n",
              "\n",
              "// This is roughly an async generator (not supported in the browser yet),\n",
              "// where there are multiple asynchronous steps and the Python side is going\n",
              "// to poll for completion of each step.\n",
              "// This uses a Promise to block the python side on completion of each step,\n",
              "// then passes the result of the previous step as the input to the next step.\n",
              "function _uploadFilesContinue(outputId) {\n",
              "  const outputElement = document.getElementById(outputId);\n",
              "  const steps = outputElement.steps;\n",
              "\n",
              "  const next = steps.next(outputElement.lastPromiseValue);\n",
              "  return Promise.resolve(next.value.promise).then((value) => {\n",
              "    // Cache the last promise value to make it available to the next\n",
              "    // step of the generator.\n",
              "    outputElement.lastPromiseValue = value;\n",
              "    return next.value.response;\n",
              "  });\n",
              "}\n",
              "\n",
              "/**\n",
              " * Generator function which is called between each async step of the upload\n",
              " * process.\n",
              " * @param {string} inputId Element ID of the input file picker element.\n",
              " * @param {string} outputId Element ID of the output display.\n",
              " * @return {!Iterable<!Object>} Iterable of next steps.\n",
              " */\n",
              "function* uploadFilesStep(inputId, outputId) {\n",
              "  const inputElement = document.getElementById(inputId);\n",
              "  inputElement.disabled = false;\n",
              "\n",
              "  const outputElement = document.getElementById(outputId);\n",
              "  outputElement.innerHTML = '';\n",
              "\n",
              "  const pickedPromise = new Promise((resolve) => {\n",
              "    inputElement.addEventListener('change', (e) => {\n",
              "      resolve(e.target.files);\n",
              "    });\n",
              "  });\n",
              "\n",
              "  const cancel = document.createElement('button');\n",
              "  inputElement.parentElement.appendChild(cancel);\n",
              "  cancel.textContent = 'Cancel upload';\n",
              "  const cancelPromise = new Promise((resolve) => {\n",
              "    cancel.onclick = () => {\n",
              "      resolve(null);\n",
              "    };\n",
              "  });\n",
              "\n",
              "  // Wait for the user to pick the files.\n",
              "  const files = yield {\n",
              "    promise: Promise.race([pickedPromise, cancelPromise]),\n",
              "    response: {\n",
              "      action: 'starting',\n",
              "    }\n",
              "  };\n",
              "\n",
              "  cancel.remove();\n",
              "\n",
              "  // Disable the input element since further picks are not allowed.\n",
              "  inputElement.disabled = true;\n",
              "\n",
              "  if (!files) {\n",
              "    return {\n",
              "      response: {\n",
              "        action: 'complete',\n",
              "      }\n",
              "    };\n",
              "  }\n",
              "\n",
              "  for (const file of files) {\n",
              "    const li = document.createElement('li');\n",
              "    li.append(span(file.name, {fontWeight: 'bold'}));\n",
              "    li.append(span(\n",
              "        `(${file.type || 'n/a'}) - ${file.size} bytes, ` +\n",
              "        `last modified: ${\n",
              "            file.lastModifiedDate ? file.lastModifiedDate.toLocaleDateString() :\n",
              "                                    'n/a'} - `));\n",
              "    const percent = span('0% done');\n",
              "    li.appendChild(percent);\n",
              "\n",
              "    outputElement.appendChild(li);\n",
              "\n",
              "    const fileDataPromise = new Promise((resolve) => {\n",
              "      const reader = new FileReader();\n",
              "      reader.onload = (e) => {\n",
              "        resolve(e.target.result);\n",
              "      };\n",
              "      reader.readAsArrayBuffer(file);\n",
              "    });\n",
              "    // Wait for the data to be ready.\n",
              "    let fileData = yield {\n",
              "      promise: fileDataPromise,\n",
              "      response: {\n",
              "        action: 'continue',\n",
              "      }\n",
              "    };\n",
              "\n",
              "    // Use a chunked sending to avoid message size limits. See b/62115660.\n",
              "    let position = 0;\n",
              "    do {\n",
              "      const length = Math.min(fileData.byteLength - position, MAX_PAYLOAD_SIZE);\n",
              "      const chunk = new Uint8Array(fileData, position, length);\n",
              "      position += length;\n",
              "\n",
              "      const base64 = btoa(String.fromCharCode.apply(null, chunk));\n",
              "      yield {\n",
              "        response: {\n",
              "          action: 'append',\n",
              "          file: file.name,\n",
              "          data: base64,\n",
              "        },\n",
              "      };\n",
              "\n",
              "      let percentDone = fileData.byteLength === 0 ?\n",
              "          100 :\n",
              "          Math.round((position / fileData.byteLength) * 100);\n",
              "      percent.textContent = `${percentDone}% done`;\n",
              "\n",
              "    } while (position < fileData.byteLength);\n",
              "  }\n",
              "\n",
              "  // All done.\n",
              "  yield {\n",
              "    response: {\n",
              "      action: 'complete',\n",
              "    }\n",
              "  };\n",
              "}\n",
              "\n",
              "scope.google = scope.google || {};\n",
              "scope.google.colab = scope.google.colab || {};\n",
              "scope.google.colab._files = {\n",
              "  _uploadFiles,\n",
              "  _uploadFilesContinue,\n",
              "};\n",
              "})(self);\n",
              "</script> "
            ]
          },
          "metadata": {}
        },
        {
          "output_type": "stream",
          "name": "stdout",
          "text": [
            "Saving rt.movie_info.tsv.gz to rt.movie_info.tsv.gz\n",
            "Saving rt.reviews.tsv.gz to rt.reviews.tsv.gz\n",
            "Saving tmdb.movies.csv.gz to tmdb.movies.csv.gz\n",
            "Saving tn.movie_budgets.csv.gz to tn.movie_budgets.csv.gz\n"
          ]
        }
      ],
      "source": [
        "# uploading files\n",
        "# source: https://towardsdatascience.com/3-ways-to-load-csv-files-into-colab-7c14fcbdcb92\n",
        "from google.colab import files\n",
        "uploaded = files.upload()"
      ]
    },
    {
      "cell_type": "code",
      "source": [
        "import zipfile\n",
        "import os"
      ],
      "metadata": {
        "id": "pB8mrjcs37gR"
      },
      "execution_count": null,
      "outputs": []
    },
    {
      "cell_type": "code",
      "source": [
        "import gzip"
      ],
      "metadata": {
        "id": "67lXBjIX4PpA"
      },
      "execution_count": null,
      "outputs": []
    },
    {
      "cell_type": "code",
      "source": [
        "#this was not helpful even though it ran\n",
        "# still got an error when trying to read in with pandas\n",
        "#with gzip.open('rt.movie_info.tsv.gz', 'r') as f:\n",
        "    #file_content = f.read()"
      ],
      "metadata": {
        "id": "dvTZhSNq4o4Q"
      },
      "execution_count": null,
      "outputs": []
    },
    {
      "cell_type": "code",
      "source": [
        "ls"
      ],
      "metadata": {
        "colab": {
          "base_uri": "https://localhost:8080/"
        },
        "id": "CfJPSZ2w4unv",
        "outputId": "6b32478e-a285-4515-b42a-c44d63378960"
      },
      "execution_count": null,
      "outputs": [
        {
          "output_type": "stream",
          "name": "stdout",
          "text": [
            "bom.movie_gross.csv.gz  rt.reviews.tsv.gz  tmdb.movies.csv.gz\n",
            "rt.movie_info.tsv.gz    \u001b[0m\u001b[01;34msample_data\u001b[0m/       tn.movie_budgets.csv.gz\n"
          ]
        }
      ]
    },
    {
      "cell_type": "code",
      "source": [
        "import pandas as pd"
      ],
      "metadata": {
        "id": "T_grfz0F4u-V"
      },
      "execution_count": null,
      "outputs": []
    },
    {
      "cell_type": "code",
      "source": [
        "# Reading gzipped csv files\n",
        "bom_movie_gross_df = pd.read_csv('bom.movie_gross.csv.gz', compression='gzip')\n",
        "tmdb_movies_df = pd.read_csv('tmdb.movies.csv.gz', compression='gzip')\n",
        "tn_movie_budgets_df = pd.read_csv('tn.movie_budgets.csv.gz', compression='gzip')\n",
        "\n",
        "# Reading gzipped tsv files\n",
        "rt_reviews_df = pd.read_csv('rt.reviews.tsv.gz', compression='gzip', delimiter='\\t', encoding='ISO-8859-1')\n",
        "rt_movie_info_df = pd.read_csv('rt.movie_info.tsv.gz', compression='gzip', delimiter='\\t',  encoding='ISO-8859-1')\n"
      ],
      "metadata": {
        "id": "jgAFBSjR5YBA"
      },
      "execution_count": null,
      "outputs": []
    },
    {
      "cell_type": "markdown",
      "source": [
        "##Previewing `TMBD `\n",
        "(Note: Yun already did EDA on this)"
      ],
      "metadata": {
        "id": "QPjhN-oJUcqg"
      }
    },
    {
      "cell_type": "code",
      "source": [
        "tmdb_movies_df.head()"
      ],
      "metadata": {
        "colab": {
          "base_uri": "https://localhost:8080/",
          "height": 478
        },
        "id": "M8Kyz-7o55HZ",
        "outputId": "2a5091b9-d8e5-47de-b8b4-fcfe0514b974"
      },
      "execution_count": null,
      "outputs": [
        {
          "output_type": "execute_result",
          "data": {
            "text/plain": [
              "   Unnamed: 0            genre_ids     id original_language  \\\n",
              "0           0      [12, 14, 10751]  12444                en   \n",
              "1           1  [14, 12, 16, 10751]  10191                en   \n",
              "2           2        [12, 28, 878]  10138                en   \n",
              "3           3      [16, 35, 10751]    862                en   \n",
              "4           4        [28, 878, 12]  27205                en   \n",
              "\n",
              "                                 original_title  popularity release_date  \\\n",
              "0  Harry Potter and the Deathly Hallows: Part 1      33.533   2010-11-19   \n",
              "1                      How to Train Your Dragon      28.734   2010-03-26   \n",
              "2                                    Iron Man 2      28.515   2010-05-07   \n",
              "3                                     Toy Story      28.005   1995-11-22   \n",
              "4                                     Inception      27.920   2010-07-16   \n",
              "\n",
              "                                          title  vote_average  vote_count  \n",
              "0  Harry Potter and the Deathly Hallows: Part 1           7.7       10788  \n",
              "1                      How to Train Your Dragon           7.7        7610  \n",
              "2                                    Iron Man 2           6.8       12368  \n",
              "3                                     Toy Story           7.9       10174  \n",
              "4                                     Inception           8.3       22186  "
            ],
            "text/html": [
              "\n",
              "  <div id=\"df-104c95bd-ef48-48ca-acaf-19abdf6417fa\">\n",
              "    <div class=\"colab-df-container\">\n",
              "      <div>\n",
              "<style scoped>\n",
              "    .dataframe tbody tr th:only-of-type {\n",
              "        vertical-align: middle;\n",
              "    }\n",
              "\n",
              "    .dataframe tbody tr th {\n",
              "        vertical-align: top;\n",
              "    }\n",
              "\n",
              "    .dataframe thead th {\n",
              "        text-align: right;\n",
              "    }\n",
              "</style>\n",
              "<table border=\"1\" class=\"dataframe\">\n",
              "  <thead>\n",
              "    <tr style=\"text-align: right;\">\n",
              "      <th></th>\n",
              "      <th>Unnamed: 0</th>\n",
              "      <th>genre_ids</th>\n",
              "      <th>id</th>\n",
              "      <th>original_language</th>\n",
              "      <th>original_title</th>\n",
              "      <th>popularity</th>\n",
              "      <th>release_date</th>\n",
              "      <th>title</th>\n",
              "      <th>vote_average</th>\n",
              "      <th>vote_count</th>\n",
              "    </tr>\n",
              "  </thead>\n",
              "  <tbody>\n",
              "    <tr>\n",
              "      <th>0</th>\n",
              "      <td>0</td>\n",
              "      <td>[12, 14, 10751]</td>\n",
              "      <td>12444</td>\n",
              "      <td>en</td>\n",
              "      <td>Harry Potter and the Deathly Hallows: Part 1</td>\n",
              "      <td>33.533</td>\n",
              "      <td>2010-11-19</td>\n",
              "      <td>Harry Potter and the Deathly Hallows: Part 1</td>\n",
              "      <td>7.7</td>\n",
              "      <td>10788</td>\n",
              "    </tr>\n",
              "    <tr>\n",
              "      <th>1</th>\n",
              "      <td>1</td>\n",
              "      <td>[14, 12, 16, 10751]</td>\n",
              "      <td>10191</td>\n",
              "      <td>en</td>\n",
              "      <td>How to Train Your Dragon</td>\n",
              "      <td>28.734</td>\n",
              "      <td>2010-03-26</td>\n",
              "      <td>How to Train Your Dragon</td>\n",
              "      <td>7.7</td>\n",
              "      <td>7610</td>\n",
              "    </tr>\n",
              "    <tr>\n",
              "      <th>2</th>\n",
              "      <td>2</td>\n",
              "      <td>[12, 28, 878]</td>\n",
              "      <td>10138</td>\n",
              "      <td>en</td>\n",
              "      <td>Iron Man 2</td>\n",
              "      <td>28.515</td>\n",
              "      <td>2010-05-07</td>\n",
              "      <td>Iron Man 2</td>\n",
              "      <td>6.8</td>\n",
              "      <td>12368</td>\n",
              "    </tr>\n",
              "    <tr>\n",
              "      <th>3</th>\n",
              "      <td>3</td>\n",
              "      <td>[16, 35, 10751]</td>\n",
              "      <td>862</td>\n",
              "      <td>en</td>\n",
              "      <td>Toy Story</td>\n",
              "      <td>28.005</td>\n",
              "      <td>1995-11-22</td>\n",
              "      <td>Toy Story</td>\n",
              "      <td>7.9</td>\n",
              "      <td>10174</td>\n",
              "    </tr>\n",
              "    <tr>\n",
              "      <th>4</th>\n",
              "      <td>4</td>\n",
              "      <td>[28, 878, 12]</td>\n",
              "      <td>27205</td>\n",
              "      <td>en</td>\n",
              "      <td>Inception</td>\n",
              "      <td>27.920</td>\n",
              "      <td>2010-07-16</td>\n",
              "      <td>Inception</td>\n",
              "      <td>8.3</td>\n",
              "      <td>22186</td>\n",
              "    </tr>\n",
              "  </tbody>\n",
              "</table>\n",
              "</div>\n",
              "      <button class=\"colab-df-convert\" onclick=\"convertToInteractive('df-104c95bd-ef48-48ca-acaf-19abdf6417fa')\"\n",
              "              title=\"Convert this dataframe to an interactive table.\"\n",
              "              style=\"display:none;\">\n",
              "        \n",
              "  <svg xmlns=\"http://www.w3.org/2000/svg\" height=\"24px\"viewBox=\"0 0 24 24\"\n",
              "       width=\"24px\">\n",
              "    <path d=\"M0 0h24v24H0V0z\" fill=\"none\"/>\n",
              "    <path d=\"M18.56 5.44l.94 2.06.94-2.06 2.06-.94-2.06-.94-.94-2.06-.94 2.06-2.06.94zm-11 1L8.5 8.5l.94-2.06 2.06-.94-2.06-.94L8.5 2.5l-.94 2.06-2.06.94zm10 10l.94 2.06.94-2.06 2.06-.94-2.06-.94-.94-2.06-.94 2.06-2.06.94z\"/><path d=\"M17.41 7.96l-1.37-1.37c-.4-.4-.92-.59-1.43-.59-.52 0-1.04.2-1.43.59L10.3 9.45l-7.72 7.72c-.78.78-.78 2.05 0 2.83L4 21.41c.39.39.9.59 1.41.59.51 0 1.02-.2 1.41-.59l7.78-7.78 2.81-2.81c.8-.78.8-2.07 0-2.86zM5.41 20L4 18.59l7.72-7.72 1.47 1.35L5.41 20z\"/>\n",
              "  </svg>\n",
              "      </button>\n",
              "      \n",
              "  <style>\n",
              "    .colab-df-container {\n",
              "      display:flex;\n",
              "      flex-wrap:wrap;\n",
              "      gap: 12px;\n",
              "    }\n",
              "\n",
              "    .colab-df-convert {\n",
              "      background-color: #E8F0FE;\n",
              "      border: none;\n",
              "      border-radius: 50%;\n",
              "      cursor: pointer;\n",
              "      display: none;\n",
              "      fill: #1967D2;\n",
              "      height: 32px;\n",
              "      padding: 0 0 0 0;\n",
              "      width: 32px;\n",
              "    }\n",
              "\n",
              "    .colab-df-convert:hover {\n",
              "      background-color: #E2EBFA;\n",
              "      box-shadow: 0px 1px 2px rgba(60, 64, 67, 0.3), 0px 1px 3px 1px rgba(60, 64, 67, 0.15);\n",
              "      fill: #174EA6;\n",
              "    }\n",
              "\n",
              "    [theme=dark] .colab-df-convert {\n",
              "      background-color: #3B4455;\n",
              "      fill: #D2E3FC;\n",
              "    }\n",
              "\n",
              "    [theme=dark] .colab-df-convert:hover {\n",
              "      background-color: #434B5C;\n",
              "      box-shadow: 0px 1px 3px 1px rgba(0, 0, 0, 0.15);\n",
              "      filter: drop-shadow(0px 1px 2px rgba(0, 0, 0, 0.3));\n",
              "      fill: #FFFFFF;\n",
              "    }\n",
              "  </style>\n",
              "\n",
              "      <script>\n",
              "        const buttonEl =\n",
              "          document.querySelector('#df-104c95bd-ef48-48ca-acaf-19abdf6417fa button.colab-df-convert');\n",
              "        buttonEl.style.display =\n",
              "          google.colab.kernel.accessAllowed ? 'block' : 'none';\n",
              "\n",
              "        async function convertToInteractive(key) {\n",
              "          const element = document.querySelector('#df-104c95bd-ef48-48ca-acaf-19abdf6417fa');\n",
              "          const dataTable =\n",
              "            await google.colab.kernel.invokeFunction('convertToInteractive',\n",
              "                                                     [key], {});\n",
              "          if (!dataTable) return;\n",
              "\n",
              "          const docLinkHtml = 'Like what you see? Visit the ' +\n",
              "            '<a target=\"_blank\" href=https://colab.research.google.com/notebooks/data_table.ipynb>data table notebook</a>'\n",
              "            + ' to learn more about interactive tables.';\n",
              "          element.innerHTML = '';\n",
              "          dataTable['output_type'] = 'display_data';\n",
              "          await google.colab.output.renderOutput(dataTable, element);\n",
              "          const docLink = document.createElement('div');\n",
              "          docLink.innerHTML = docLinkHtml;\n",
              "          element.appendChild(docLink);\n",
              "        }\n",
              "      </script>\n",
              "    </div>\n",
              "  </div>\n",
              "  "
            ]
          },
          "metadata": {},
          "execution_count": 12
        }
      ]
    },
    {
      "cell_type": "code",
      "source": [
        "tmdb_movies_df['release_date'].value_counts()"
      ],
      "metadata": {
        "colab": {
          "base_uri": "https://localhost:8080/"
        },
        "id": "bq89EoQAi6Xe",
        "outputId": "75ec00b2-a70a-45fb-b82a-27c312680dce"
      },
      "execution_count": null,
      "outputs": [
        {
          "output_type": "execute_result",
          "data": {
            "text/plain": [
              "2010-01-01    269\n",
              "2011-01-01    200\n",
              "2014-01-01    155\n",
              "2012-01-01    155\n",
              "2013-01-01    145\n",
              "             ... \n",
              "1980-06-25      1\n",
              "1991-05-24      1\n",
              "1997-02-07      1\n",
              "1996-03-15      1\n",
              "2018-05-26      1\n",
              "Name: release_date, Length: 3433, dtype: int64"
            ]
          },
          "metadata": {},
          "execution_count": 54
        }
      ]
    },
    {
      "cell_type": "code",
      "source": [
        "# make a copy\n",
        "tmdb_movies_df_copy = tmdb_movies_df.copy()"
      ],
      "metadata": {
        "id": "NKLn8XM4jOjQ"
      },
      "execution_count": null,
      "outputs": []
    },
    {
      "cell_type": "code",
      "source": [
        "# convert to date\n",
        "tmdb_movies_df_copy['release_date'] = pd.to_datetime(tmdb_movies_df_copy['release_date'])"
      ],
      "metadata": {
        "id": "xiNxzS0GjWMj"
      },
      "execution_count": null,
      "outputs": []
    },
    {
      "cell_type": "code",
      "source": [
        "# sanity check\n",
        "tmdb_movies_df_copy['release_date'].dtypes"
      ],
      "metadata": {
        "colab": {
          "base_uri": "https://localhost:8080/"
        },
        "id": "eBco4QSEjuN_",
        "outputId": "f39f1246-4dbc-4fb9-8427-7dbeea51a62a"
      },
      "execution_count": null,
      "outputs": [
        {
          "output_type": "execute_result",
          "data": {
            "text/plain": [
              "dtype('<M8[ns]')"
            ]
          },
          "metadata": {},
          "execution_count": 58
        }
      ]
    },
    {
      "cell_type": "code",
      "source": [
        "# sort by release date\n",
        "tmdb_movies_df_copy.sort_values(by='release_date')"
      ],
      "metadata": {
        "colab": {
          "base_uri": "https://localhost:8080/",
          "height": 834
        },
        "id": "nX8jOlNskI1O",
        "outputId": "9a8634a2-59ac-40ea-9f03-e7dc045c64e9"
      },
      "execution_count": null,
      "outputs": [
        {
          "output_type": "execute_result",
          "data": {
            "text/plain": [
              "       Unnamed: 0                     genre_ids      id original_language  \\\n",
              "14335       14335                   [18, 10752]     143                en   \n",
              "21758       21758                      [27, 53]   43148                en   \n",
              "3580         3580               [35, 18, 10749]  263768                fr   \n",
              "26345       26345                            []  316707                en   \n",
              "11192       11192               [18, 36, 10749]     887                en   \n",
              "...           ...                           ...     ...               ...   \n",
              "24819       24819                          [18]  481880                en   \n",
              "24003       24003                [18, 9648, 53]  411144                en   \n",
              "24892       24892                          [99]  541577                en   \n",
              "24265       24265                   [10749, 18]  428836                en   \n",
              "26057       26057  [27, 80, 80, 80, 80, 80, 80]  570704                en   \n",
              "\n",
              "                           original_title  popularity release_date  \\\n",
              "14335      All Quiet on the Western Front       9.583   1930-04-29   \n",
              "21758                     The Vampire Bat       2.292   1933-01-21   \n",
              "3580                           Le Bonheur       1.653   1936-02-27   \n",
              "26345   How Walt Disney Cartoons Are Made       0.600   1939-01-19   \n",
              "11192         The Best Years of Our Lives       9.647   1946-12-25   \n",
              "...                                   ...         ...          ...   \n",
              "24819                       Trial by Fire       4.480   2019-05-17   \n",
              "24003  We Have Always Lived in the Castle      14.028   2019-05-17   \n",
              "24892             This Changes Everything       3.955   2019-06-28   \n",
              "24265                             Ophelia       8.715   2019-06-28   \n",
              "26057                   Murdery Christmas       0.840   2020-12-25   \n",
              "\n",
              "                                    title  vote_average  vote_count  \n",
              "14335      All Quiet on the Western Front           7.8         299  \n",
              "21758                     The Vampire Bat           5.6          23  \n",
              "3580                           Le Bonheur           8.7           3  \n",
              "26345   How Walt Disney Cartoons Are Made           7.3           3  \n",
              "11192         The Best Years of Our Lives           7.8         243  \n",
              "...                                   ...           ...         ...  \n",
              "24819                       Trial by Fire           7.0           3  \n",
              "24003  We Have Always Lived in the Castle           5.2          24  \n",
              "24892             This Changes Everything           0.0           1  \n",
              "24265                             Ophelia           0.0           4  \n",
              "26057                   Murdery Christmas           0.0           1  \n",
              "\n",
              "[26517 rows x 10 columns]"
            ],
            "text/html": [
              "\n",
              "  <div id=\"df-ff2a2fbd-5224-4bfd-a8bb-d0fca524a820\">\n",
              "    <div class=\"colab-df-container\">\n",
              "      <div>\n",
              "<style scoped>\n",
              "    .dataframe tbody tr th:only-of-type {\n",
              "        vertical-align: middle;\n",
              "    }\n",
              "\n",
              "    .dataframe tbody tr th {\n",
              "        vertical-align: top;\n",
              "    }\n",
              "\n",
              "    .dataframe thead th {\n",
              "        text-align: right;\n",
              "    }\n",
              "</style>\n",
              "<table border=\"1\" class=\"dataframe\">\n",
              "  <thead>\n",
              "    <tr style=\"text-align: right;\">\n",
              "      <th></th>\n",
              "      <th>Unnamed: 0</th>\n",
              "      <th>genre_ids</th>\n",
              "      <th>id</th>\n",
              "      <th>original_language</th>\n",
              "      <th>original_title</th>\n",
              "      <th>popularity</th>\n",
              "      <th>release_date</th>\n",
              "      <th>title</th>\n",
              "      <th>vote_average</th>\n",
              "      <th>vote_count</th>\n",
              "    </tr>\n",
              "  </thead>\n",
              "  <tbody>\n",
              "    <tr>\n",
              "      <th>14335</th>\n",
              "      <td>14335</td>\n",
              "      <td>[18, 10752]</td>\n",
              "      <td>143</td>\n",
              "      <td>en</td>\n",
              "      <td>All Quiet on the Western Front</td>\n",
              "      <td>9.583</td>\n",
              "      <td>1930-04-29</td>\n",
              "      <td>All Quiet on the Western Front</td>\n",
              "      <td>7.8</td>\n",
              "      <td>299</td>\n",
              "    </tr>\n",
              "    <tr>\n",
              "      <th>21758</th>\n",
              "      <td>21758</td>\n",
              "      <td>[27, 53]</td>\n",
              "      <td>43148</td>\n",
              "      <td>en</td>\n",
              "      <td>The Vampire Bat</td>\n",
              "      <td>2.292</td>\n",
              "      <td>1933-01-21</td>\n",
              "      <td>The Vampire Bat</td>\n",
              "      <td>5.6</td>\n",
              "      <td>23</td>\n",
              "    </tr>\n",
              "    <tr>\n",
              "      <th>3580</th>\n",
              "      <td>3580</td>\n",
              "      <td>[35, 18, 10749]</td>\n",
              "      <td>263768</td>\n",
              "      <td>fr</td>\n",
              "      <td>Le Bonheur</td>\n",
              "      <td>1.653</td>\n",
              "      <td>1936-02-27</td>\n",
              "      <td>Le Bonheur</td>\n",
              "      <td>8.7</td>\n",
              "      <td>3</td>\n",
              "    </tr>\n",
              "    <tr>\n",
              "      <th>26345</th>\n",
              "      <td>26345</td>\n",
              "      <td>[]</td>\n",
              "      <td>316707</td>\n",
              "      <td>en</td>\n",
              "      <td>How Walt Disney Cartoons Are Made</td>\n",
              "      <td>0.600</td>\n",
              "      <td>1939-01-19</td>\n",
              "      <td>How Walt Disney Cartoons Are Made</td>\n",
              "      <td>7.3</td>\n",
              "      <td>3</td>\n",
              "    </tr>\n",
              "    <tr>\n",
              "      <th>11192</th>\n",
              "      <td>11192</td>\n",
              "      <td>[18, 36, 10749]</td>\n",
              "      <td>887</td>\n",
              "      <td>en</td>\n",
              "      <td>The Best Years of Our Lives</td>\n",
              "      <td>9.647</td>\n",
              "      <td>1946-12-25</td>\n",
              "      <td>The Best Years of Our Lives</td>\n",
              "      <td>7.8</td>\n",
              "      <td>243</td>\n",
              "    </tr>\n",
              "    <tr>\n",
              "      <th>...</th>\n",
              "      <td>...</td>\n",
              "      <td>...</td>\n",
              "      <td>...</td>\n",
              "      <td>...</td>\n",
              "      <td>...</td>\n",
              "      <td>...</td>\n",
              "      <td>...</td>\n",
              "      <td>...</td>\n",
              "      <td>...</td>\n",
              "      <td>...</td>\n",
              "    </tr>\n",
              "    <tr>\n",
              "      <th>24819</th>\n",
              "      <td>24819</td>\n",
              "      <td>[18]</td>\n",
              "      <td>481880</td>\n",
              "      <td>en</td>\n",
              "      <td>Trial by Fire</td>\n",
              "      <td>4.480</td>\n",
              "      <td>2019-05-17</td>\n",
              "      <td>Trial by Fire</td>\n",
              "      <td>7.0</td>\n",
              "      <td>3</td>\n",
              "    </tr>\n",
              "    <tr>\n",
              "      <th>24003</th>\n",
              "      <td>24003</td>\n",
              "      <td>[18, 9648, 53]</td>\n",
              "      <td>411144</td>\n",
              "      <td>en</td>\n",
              "      <td>We Have Always Lived in the Castle</td>\n",
              "      <td>14.028</td>\n",
              "      <td>2019-05-17</td>\n",
              "      <td>We Have Always Lived in the Castle</td>\n",
              "      <td>5.2</td>\n",
              "      <td>24</td>\n",
              "    </tr>\n",
              "    <tr>\n",
              "      <th>24892</th>\n",
              "      <td>24892</td>\n",
              "      <td>[99]</td>\n",
              "      <td>541577</td>\n",
              "      <td>en</td>\n",
              "      <td>This Changes Everything</td>\n",
              "      <td>3.955</td>\n",
              "      <td>2019-06-28</td>\n",
              "      <td>This Changes Everything</td>\n",
              "      <td>0.0</td>\n",
              "      <td>1</td>\n",
              "    </tr>\n",
              "    <tr>\n",
              "      <th>24265</th>\n",
              "      <td>24265</td>\n",
              "      <td>[10749, 18]</td>\n",
              "      <td>428836</td>\n",
              "      <td>en</td>\n",
              "      <td>Ophelia</td>\n",
              "      <td>8.715</td>\n",
              "      <td>2019-06-28</td>\n",
              "      <td>Ophelia</td>\n",
              "      <td>0.0</td>\n",
              "      <td>4</td>\n",
              "    </tr>\n",
              "    <tr>\n",
              "      <th>26057</th>\n",
              "      <td>26057</td>\n",
              "      <td>[27, 80, 80, 80, 80, 80, 80]</td>\n",
              "      <td>570704</td>\n",
              "      <td>en</td>\n",
              "      <td>Murdery Christmas</td>\n",
              "      <td>0.840</td>\n",
              "      <td>2020-12-25</td>\n",
              "      <td>Murdery Christmas</td>\n",
              "      <td>0.0</td>\n",
              "      <td>1</td>\n",
              "    </tr>\n",
              "  </tbody>\n",
              "</table>\n",
              "<p>26517 rows × 10 columns</p>\n",
              "</div>\n",
              "      <button class=\"colab-df-convert\" onclick=\"convertToInteractive('df-ff2a2fbd-5224-4bfd-a8bb-d0fca524a820')\"\n",
              "              title=\"Convert this dataframe to an interactive table.\"\n",
              "              style=\"display:none;\">\n",
              "        \n",
              "  <svg xmlns=\"http://www.w3.org/2000/svg\" height=\"24px\"viewBox=\"0 0 24 24\"\n",
              "       width=\"24px\">\n",
              "    <path d=\"M0 0h24v24H0V0z\" fill=\"none\"/>\n",
              "    <path d=\"M18.56 5.44l.94 2.06.94-2.06 2.06-.94-2.06-.94-.94-2.06-.94 2.06-2.06.94zm-11 1L8.5 8.5l.94-2.06 2.06-.94-2.06-.94L8.5 2.5l-.94 2.06-2.06.94zm10 10l.94 2.06.94-2.06 2.06-.94-2.06-.94-.94-2.06-.94 2.06-2.06.94z\"/><path d=\"M17.41 7.96l-1.37-1.37c-.4-.4-.92-.59-1.43-.59-.52 0-1.04.2-1.43.59L10.3 9.45l-7.72 7.72c-.78.78-.78 2.05 0 2.83L4 21.41c.39.39.9.59 1.41.59.51 0 1.02-.2 1.41-.59l7.78-7.78 2.81-2.81c.8-.78.8-2.07 0-2.86zM5.41 20L4 18.59l7.72-7.72 1.47 1.35L5.41 20z\"/>\n",
              "  </svg>\n",
              "      </button>\n",
              "      \n",
              "  <style>\n",
              "    .colab-df-container {\n",
              "      display:flex;\n",
              "      flex-wrap:wrap;\n",
              "      gap: 12px;\n",
              "    }\n",
              "\n",
              "    .colab-df-convert {\n",
              "      background-color: #E8F0FE;\n",
              "      border: none;\n",
              "      border-radius: 50%;\n",
              "      cursor: pointer;\n",
              "      display: none;\n",
              "      fill: #1967D2;\n",
              "      height: 32px;\n",
              "      padding: 0 0 0 0;\n",
              "      width: 32px;\n",
              "    }\n",
              "\n",
              "    .colab-df-convert:hover {\n",
              "      background-color: #E2EBFA;\n",
              "      box-shadow: 0px 1px 2px rgba(60, 64, 67, 0.3), 0px 1px 3px 1px rgba(60, 64, 67, 0.15);\n",
              "      fill: #174EA6;\n",
              "    }\n",
              "\n",
              "    [theme=dark] .colab-df-convert {\n",
              "      background-color: #3B4455;\n",
              "      fill: #D2E3FC;\n",
              "    }\n",
              "\n",
              "    [theme=dark] .colab-df-convert:hover {\n",
              "      background-color: #434B5C;\n",
              "      box-shadow: 0px 1px 3px 1px rgba(0, 0, 0, 0.15);\n",
              "      filter: drop-shadow(0px 1px 2px rgba(0, 0, 0, 0.3));\n",
              "      fill: #FFFFFF;\n",
              "    }\n",
              "  </style>\n",
              "\n",
              "      <script>\n",
              "        const buttonEl =\n",
              "          document.querySelector('#df-ff2a2fbd-5224-4bfd-a8bb-d0fca524a820 button.colab-df-convert');\n",
              "        buttonEl.style.display =\n",
              "          google.colab.kernel.accessAllowed ? 'block' : 'none';\n",
              "\n",
              "        async function convertToInteractive(key) {\n",
              "          const element = document.querySelector('#df-ff2a2fbd-5224-4bfd-a8bb-d0fca524a820');\n",
              "          const dataTable =\n",
              "            await google.colab.kernel.invokeFunction('convertToInteractive',\n",
              "                                                     [key], {});\n",
              "          if (!dataTable) return;\n",
              "\n",
              "          const docLinkHtml = 'Like what you see? Visit the ' +\n",
              "            '<a target=\"_blank\" href=https://colab.research.google.com/notebooks/data_table.ipynb>data table notebook</a>'\n",
              "            + ' to learn more about interactive tables.';\n",
              "          element.innerHTML = '';\n",
              "          dataTable['output_type'] = 'display_data';\n",
              "          await google.colab.output.renderOutput(dataTable, element);\n",
              "          const docLink = document.createElement('div');\n",
              "          docLink.innerHTML = docLinkHtml;\n",
              "          element.appendChild(docLink);\n",
              "        }\n",
              "      </script>\n",
              "    </div>\n",
              "  </div>\n",
              "  "
            ]
          },
          "metadata": {},
          "execution_count": 59
        }
      ]
    },
    {
      "cell_type": "markdown",
      "source": [
        "##Previewing `RT`"
      ],
      "metadata": {
        "id": "FdlmAhHqUoN2"
      }
    },
    {
      "cell_type": "code",
      "source": [
        "rt_movie_info_df.head()"
      ],
      "metadata": {
        "colab": {
          "base_uri": "https://localhost:8080/",
          "height": 600
        },
        "id": "NiQ_itNh56Wm",
        "outputId": "a34b6c7b-2984-4526-a0c5-0923db57d3ed"
      },
      "execution_count": null,
      "outputs": [
        {
          "output_type": "execute_result",
          "data": {
            "text/plain": [
              "   id                                           synopsis rating  \\\n",
              "0   1  This gritty, fast-paced, and innovative police...      R   \n",
              "1   3  New York City, not-too-distant-future: Eric Pa...      R   \n",
              "2   5  Illeana Douglas delivers a superb performance ...      R   \n",
              "3   6  Michael Douglas runs afoul of a treacherous su...      R   \n",
              "4   7                                                NaN     NR   \n",
              "\n",
              "                                 genre          director  \\\n",
              "0  Action and Adventure|Classics|Drama  William Friedkin   \n",
              "1    Drama|Science Fiction and Fantasy  David Cronenberg   \n",
              "2    Drama|Musical and Performing Arts    Allison Anders   \n",
              "3           Drama|Mystery and Suspense    Barry Levinson   \n",
              "4                        Drama|Romance    Rodney Bennett   \n",
              "\n",
              "                            writer  theater_date      dvd_date currency  \\\n",
              "0                   Ernest Tidyman   Oct 9, 1971  Sep 25, 2001      NaN   \n",
              "1     David Cronenberg|Don DeLillo  Aug 17, 2012   Jan 1, 2013        $   \n",
              "2                   Allison Anders  Sep 13, 1996  Apr 18, 2000      NaN   \n",
              "3  Paul Attanasio|Michael Crichton   Dec 9, 1994  Aug 27, 1997      NaN   \n",
              "4                     Giles Cooper           NaN           NaN      NaN   \n",
              "\n",
              "  box_office      runtime             studio  \n",
              "0        NaN  104 minutes                NaN  \n",
              "1    600,000  108 minutes  Entertainment One  \n",
              "2        NaN  116 minutes                NaN  \n",
              "3        NaN  128 minutes                NaN  \n",
              "4        NaN  200 minutes                NaN  "
            ],
            "text/html": [
              "\n",
              "  <div id=\"df-5b71af9e-676e-4642-8db1-add71d7efe0f\">\n",
              "    <div class=\"colab-df-container\">\n",
              "      <div>\n",
              "<style scoped>\n",
              "    .dataframe tbody tr th:only-of-type {\n",
              "        vertical-align: middle;\n",
              "    }\n",
              "\n",
              "    .dataframe tbody tr th {\n",
              "        vertical-align: top;\n",
              "    }\n",
              "\n",
              "    .dataframe thead th {\n",
              "        text-align: right;\n",
              "    }\n",
              "</style>\n",
              "<table border=\"1\" class=\"dataframe\">\n",
              "  <thead>\n",
              "    <tr style=\"text-align: right;\">\n",
              "      <th></th>\n",
              "      <th>id</th>\n",
              "      <th>synopsis</th>\n",
              "      <th>rating</th>\n",
              "      <th>genre</th>\n",
              "      <th>director</th>\n",
              "      <th>writer</th>\n",
              "      <th>theater_date</th>\n",
              "      <th>dvd_date</th>\n",
              "      <th>currency</th>\n",
              "      <th>box_office</th>\n",
              "      <th>runtime</th>\n",
              "      <th>studio</th>\n",
              "    </tr>\n",
              "  </thead>\n",
              "  <tbody>\n",
              "    <tr>\n",
              "      <th>0</th>\n",
              "      <td>1</td>\n",
              "      <td>This gritty, fast-paced, and innovative police...</td>\n",
              "      <td>R</td>\n",
              "      <td>Action and Adventure|Classics|Drama</td>\n",
              "      <td>William Friedkin</td>\n",
              "      <td>Ernest Tidyman</td>\n",
              "      <td>Oct 9, 1971</td>\n",
              "      <td>Sep 25, 2001</td>\n",
              "      <td>NaN</td>\n",
              "      <td>NaN</td>\n",
              "      <td>104 minutes</td>\n",
              "      <td>NaN</td>\n",
              "    </tr>\n",
              "    <tr>\n",
              "      <th>1</th>\n",
              "      <td>3</td>\n",
              "      <td>New York City, not-too-distant-future: Eric Pa...</td>\n",
              "      <td>R</td>\n",
              "      <td>Drama|Science Fiction and Fantasy</td>\n",
              "      <td>David Cronenberg</td>\n",
              "      <td>David Cronenberg|Don DeLillo</td>\n",
              "      <td>Aug 17, 2012</td>\n",
              "      <td>Jan 1, 2013</td>\n",
              "      <td>$</td>\n",
              "      <td>600,000</td>\n",
              "      <td>108 minutes</td>\n",
              "      <td>Entertainment One</td>\n",
              "    </tr>\n",
              "    <tr>\n",
              "      <th>2</th>\n",
              "      <td>5</td>\n",
              "      <td>Illeana Douglas delivers a superb performance ...</td>\n",
              "      <td>R</td>\n",
              "      <td>Drama|Musical and Performing Arts</td>\n",
              "      <td>Allison Anders</td>\n",
              "      <td>Allison Anders</td>\n",
              "      <td>Sep 13, 1996</td>\n",
              "      <td>Apr 18, 2000</td>\n",
              "      <td>NaN</td>\n",
              "      <td>NaN</td>\n",
              "      <td>116 minutes</td>\n",
              "      <td>NaN</td>\n",
              "    </tr>\n",
              "    <tr>\n",
              "      <th>3</th>\n",
              "      <td>6</td>\n",
              "      <td>Michael Douglas runs afoul of a treacherous su...</td>\n",
              "      <td>R</td>\n",
              "      <td>Drama|Mystery and Suspense</td>\n",
              "      <td>Barry Levinson</td>\n",
              "      <td>Paul Attanasio|Michael Crichton</td>\n",
              "      <td>Dec 9, 1994</td>\n",
              "      <td>Aug 27, 1997</td>\n",
              "      <td>NaN</td>\n",
              "      <td>NaN</td>\n",
              "      <td>128 minutes</td>\n",
              "      <td>NaN</td>\n",
              "    </tr>\n",
              "    <tr>\n",
              "      <th>4</th>\n",
              "      <td>7</td>\n",
              "      <td>NaN</td>\n",
              "      <td>NR</td>\n",
              "      <td>Drama|Romance</td>\n",
              "      <td>Rodney Bennett</td>\n",
              "      <td>Giles Cooper</td>\n",
              "      <td>NaN</td>\n",
              "      <td>NaN</td>\n",
              "      <td>NaN</td>\n",
              "      <td>NaN</td>\n",
              "      <td>200 minutes</td>\n",
              "      <td>NaN</td>\n",
              "    </tr>\n",
              "  </tbody>\n",
              "</table>\n",
              "</div>\n",
              "      <button class=\"colab-df-convert\" onclick=\"convertToInteractive('df-5b71af9e-676e-4642-8db1-add71d7efe0f')\"\n",
              "              title=\"Convert this dataframe to an interactive table.\"\n",
              "              style=\"display:none;\">\n",
              "        \n",
              "  <svg xmlns=\"http://www.w3.org/2000/svg\" height=\"24px\"viewBox=\"0 0 24 24\"\n",
              "       width=\"24px\">\n",
              "    <path d=\"M0 0h24v24H0V0z\" fill=\"none\"/>\n",
              "    <path d=\"M18.56 5.44l.94 2.06.94-2.06 2.06-.94-2.06-.94-.94-2.06-.94 2.06-2.06.94zm-11 1L8.5 8.5l.94-2.06 2.06-.94-2.06-.94L8.5 2.5l-.94 2.06-2.06.94zm10 10l.94 2.06.94-2.06 2.06-.94-2.06-.94-.94-2.06-.94 2.06-2.06.94z\"/><path d=\"M17.41 7.96l-1.37-1.37c-.4-.4-.92-.59-1.43-.59-.52 0-1.04.2-1.43.59L10.3 9.45l-7.72 7.72c-.78.78-.78 2.05 0 2.83L4 21.41c.39.39.9.59 1.41.59.51 0 1.02-.2 1.41-.59l7.78-7.78 2.81-2.81c.8-.78.8-2.07 0-2.86zM5.41 20L4 18.59l7.72-7.72 1.47 1.35L5.41 20z\"/>\n",
              "  </svg>\n",
              "      </button>\n",
              "      \n",
              "  <style>\n",
              "    .colab-df-container {\n",
              "      display:flex;\n",
              "      flex-wrap:wrap;\n",
              "      gap: 12px;\n",
              "    }\n",
              "\n",
              "    .colab-df-convert {\n",
              "      background-color: #E8F0FE;\n",
              "      border: none;\n",
              "      border-radius: 50%;\n",
              "      cursor: pointer;\n",
              "      display: none;\n",
              "      fill: #1967D2;\n",
              "      height: 32px;\n",
              "      padding: 0 0 0 0;\n",
              "      width: 32px;\n",
              "    }\n",
              "\n",
              "    .colab-df-convert:hover {\n",
              "      background-color: #E2EBFA;\n",
              "      box-shadow: 0px 1px 2px rgba(60, 64, 67, 0.3), 0px 1px 3px 1px rgba(60, 64, 67, 0.15);\n",
              "      fill: #174EA6;\n",
              "    }\n",
              "\n",
              "    [theme=dark] .colab-df-convert {\n",
              "      background-color: #3B4455;\n",
              "      fill: #D2E3FC;\n",
              "    }\n",
              "\n",
              "    [theme=dark] .colab-df-convert:hover {\n",
              "      background-color: #434B5C;\n",
              "      box-shadow: 0px 1px 3px 1px rgba(0, 0, 0, 0.15);\n",
              "      filter: drop-shadow(0px 1px 2px rgba(0, 0, 0, 0.3));\n",
              "      fill: #FFFFFF;\n",
              "    }\n",
              "  </style>\n",
              "\n",
              "      <script>\n",
              "        const buttonEl =\n",
              "          document.querySelector('#df-5b71af9e-676e-4642-8db1-add71d7efe0f button.colab-df-convert');\n",
              "        buttonEl.style.display =\n",
              "          google.colab.kernel.accessAllowed ? 'block' : 'none';\n",
              "\n",
              "        async function convertToInteractive(key) {\n",
              "          const element = document.querySelector('#df-5b71af9e-676e-4642-8db1-add71d7efe0f');\n",
              "          const dataTable =\n",
              "            await google.colab.kernel.invokeFunction('convertToInteractive',\n",
              "                                                     [key], {});\n",
              "          if (!dataTable) return;\n",
              "\n",
              "          const docLinkHtml = 'Like what you see? Visit the ' +\n",
              "            '<a target=\"_blank\" href=https://colab.research.google.com/notebooks/data_table.ipynb>data table notebook</a>'\n",
              "            + ' to learn more about interactive tables.';\n",
              "          element.innerHTML = '';\n",
              "          dataTable['output_type'] = 'display_data';\n",
              "          await google.colab.output.renderOutput(dataTable, element);\n",
              "          const docLink = document.createElement('div');\n",
              "          docLink.innerHTML = docLinkHtml;\n",
              "          element.appendChild(docLink);\n",
              "        }\n",
              "      </script>\n",
              "    </div>\n",
              "  </div>\n",
              "  "
            ]
          },
          "metadata": {},
          "execution_count": 13
        }
      ]
    },
    {
      "cell_type": "code",
      "source": [
        "rt_movie_info_df.info()"
      ],
      "metadata": {
        "colab": {
          "base_uri": "https://localhost:8080/"
        },
        "id": "ZBaITT9XU2Ju",
        "outputId": "04988c0a-0032-465d-89fa-05582c222b97"
      },
      "execution_count": null,
      "outputs": [
        {
          "output_type": "stream",
          "name": "stdout",
          "text": [
            "<class 'pandas.core.frame.DataFrame'>\n",
            "RangeIndex: 1560 entries, 0 to 1559\n",
            "Data columns (total 12 columns):\n",
            " #   Column        Non-Null Count  Dtype \n",
            "---  ------        --------------  ----- \n",
            " 0   id            1560 non-null   int64 \n",
            " 1   synopsis      1498 non-null   object\n",
            " 2   rating        1557 non-null   object\n",
            " 3   genre         1552 non-null   object\n",
            " 4   director      1361 non-null   object\n",
            " 5   writer        1111 non-null   object\n",
            " 6   theater_date  1201 non-null   object\n",
            " 7   dvd_date      1201 non-null   object\n",
            " 8   currency      340 non-null    object\n",
            " 9   box_office    340 non-null    object\n",
            " 10  runtime       1530 non-null   object\n",
            " 11  studio        494 non-null    object\n",
            "dtypes: int64(1), object(11)\n",
            "memory usage: 146.4+ KB\n"
          ]
        }
      ]
    },
    {
      "cell_type": "markdown",
      "source": [
        "**Maybe to do: Might need to make a date time object for sorting purposes**"
      ],
      "metadata": {
        "id": "cj1vv4rtVSRh"
      }
    },
    {
      "cell_type": "code",
      "source": [
        "rt_movie_info_df['theater_date'].dtypes"
      ],
      "metadata": {
        "colab": {
          "base_uri": "https://localhost:8080/"
        },
        "id": "zF7Q1TBtU88g",
        "outputId": "a522634c-da57-4109-88e2-bd31bf0d61e5"
      },
      "execution_count": null,
      "outputs": [
        {
          "output_type": "execute_result",
          "data": {
            "text/plain": [
              "dtype('O')"
            ]
          },
          "metadata": {},
          "execution_count": 15
        }
      ]
    },
    {
      "cell_type": "code",
      "source": [
        "rt_reviews_df.head()"
      ],
      "metadata": {
        "colab": {
          "base_uri": "https://localhost:8080/",
          "height": 206
        },
        "id": "sajZLsJCUwyR",
        "outputId": "1303b0ba-eba5-46f7-dd6c-f482982c2835"
      },
      "execution_count": null,
      "outputs": [
        {
          "output_type": "execute_result",
          "data": {
            "text/plain": [
              "   id                                             review rating   fresh  \\\n",
              "0   3  A distinctly gallows take on contemporary fina...    3/5   fresh   \n",
              "1   3  It's an allegory in search of a meaning that n...    NaN  rotten   \n",
              "2   3  ... life lived in a bubble in financial dealin...    NaN   fresh   \n",
              "3   3  Continuing along a line introduced in last yea...    NaN   fresh   \n",
              "4   3             ... a perverse twist on neorealism...     NaN   fresh   \n",
              "\n",
              "           critic  top_critic         publisher               date  \n",
              "0      PJ Nabarro           0   Patrick Nabarro  November 10, 2018  \n",
              "1  Annalee Newitz           0           io9.com       May 23, 2018  \n",
              "2    Sean Axmaker           0  Stream on Demand    January 4, 2018  \n",
              "3   Daniel Kasman           0              MUBI  November 16, 2017  \n",
              "4             NaN           0      Cinema Scope   October 12, 2017  "
            ],
            "text/html": [
              "\n",
              "  <div id=\"df-ffbc2217-2c6b-4db4-8245-33602a205e3e\">\n",
              "    <div class=\"colab-df-container\">\n",
              "      <div>\n",
              "<style scoped>\n",
              "    .dataframe tbody tr th:only-of-type {\n",
              "        vertical-align: middle;\n",
              "    }\n",
              "\n",
              "    .dataframe tbody tr th {\n",
              "        vertical-align: top;\n",
              "    }\n",
              "\n",
              "    .dataframe thead th {\n",
              "        text-align: right;\n",
              "    }\n",
              "</style>\n",
              "<table border=\"1\" class=\"dataframe\">\n",
              "  <thead>\n",
              "    <tr style=\"text-align: right;\">\n",
              "      <th></th>\n",
              "      <th>id</th>\n",
              "      <th>review</th>\n",
              "      <th>rating</th>\n",
              "      <th>fresh</th>\n",
              "      <th>critic</th>\n",
              "      <th>top_critic</th>\n",
              "      <th>publisher</th>\n",
              "      <th>date</th>\n",
              "    </tr>\n",
              "  </thead>\n",
              "  <tbody>\n",
              "    <tr>\n",
              "      <th>0</th>\n",
              "      <td>3</td>\n",
              "      <td>A distinctly gallows take on contemporary fina...</td>\n",
              "      <td>3/5</td>\n",
              "      <td>fresh</td>\n",
              "      <td>PJ Nabarro</td>\n",
              "      <td>0</td>\n",
              "      <td>Patrick Nabarro</td>\n",
              "      <td>November 10, 2018</td>\n",
              "    </tr>\n",
              "    <tr>\n",
              "      <th>1</th>\n",
              "      <td>3</td>\n",
              "      <td>It's an allegory in search of a meaning that n...</td>\n",
              "      <td>NaN</td>\n",
              "      <td>rotten</td>\n",
              "      <td>Annalee Newitz</td>\n",
              "      <td>0</td>\n",
              "      <td>io9.com</td>\n",
              "      <td>May 23, 2018</td>\n",
              "    </tr>\n",
              "    <tr>\n",
              "      <th>2</th>\n",
              "      <td>3</td>\n",
              "      <td>... life lived in a bubble in financial dealin...</td>\n",
              "      <td>NaN</td>\n",
              "      <td>fresh</td>\n",
              "      <td>Sean Axmaker</td>\n",
              "      <td>0</td>\n",
              "      <td>Stream on Demand</td>\n",
              "      <td>January 4, 2018</td>\n",
              "    </tr>\n",
              "    <tr>\n",
              "      <th>3</th>\n",
              "      <td>3</td>\n",
              "      <td>Continuing along a line introduced in last yea...</td>\n",
              "      <td>NaN</td>\n",
              "      <td>fresh</td>\n",
              "      <td>Daniel Kasman</td>\n",
              "      <td>0</td>\n",
              "      <td>MUBI</td>\n",
              "      <td>November 16, 2017</td>\n",
              "    </tr>\n",
              "    <tr>\n",
              "      <th>4</th>\n",
              "      <td>3</td>\n",
              "      <td>... a perverse twist on neorealism...</td>\n",
              "      <td>NaN</td>\n",
              "      <td>fresh</td>\n",
              "      <td>NaN</td>\n",
              "      <td>0</td>\n",
              "      <td>Cinema Scope</td>\n",
              "      <td>October 12, 2017</td>\n",
              "    </tr>\n",
              "  </tbody>\n",
              "</table>\n",
              "</div>\n",
              "      <button class=\"colab-df-convert\" onclick=\"convertToInteractive('df-ffbc2217-2c6b-4db4-8245-33602a205e3e')\"\n",
              "              title=\"Convert this dataframe to an interactive table.\"\n",
              "              style=\"display:none;\">\n",
              "        \n",
              "  <svg xmlns=\"http://www.w3.org/2000/svg\" height=\"24px\"viewBox=\"0 0 24 24\"\n",
              "       width=\"24px\">\n",
              "    <path d=\"M0 0h24v24H0V0z\" fill=\"none\"/>\n",
              "    <path d=\"M18.56 5.44l.94 2.06.94-2.06 2.06-.94-2.06-.94-.94-2.06-.94 2.06-2.06.94zm-11 1L8.5 8.5l.94-2.06 2.06-.94-2.06-.94L8.5 2.5l-.94 2.06-2.06.94zm10 10l.94 2.06.94-2.06 2.06-.94-2.06-.94-.94-2.06-.94 2.06-2.06.94z\"/><path d=\"M17.41 7.96l-1.37-1.37c-.4-.4-.92-.59-1.43-.59-.52 0-1.04.2-1.43.59L10.3 9.45l-7.72 7.72c-.78.78-.78 2.05 0 2.83L4 21.41c.39.39.9.59 1.41.59.51 0 1.02-.2 1.41-.59l7.78-7.78 2.81-2.81c.8-.78.8-2.07 0-2.86zM5.41 20L4 18.59l7.72-7.72 1.47 1.35L5.41 20z\"/>\n",
              "  </svg>\n",
              "      </button>\n",
              "      \n",
              "  <style>\n",
              "    .colab-df-container {\n",
              "      display:flex;\n",
              "      flex-wrap:wrap;\n",
              "      gap: 12px;\n",
              "    }\n",
              "\n",
              "    .colab-df-convert {\n",
              "      background-color: #E8F0FE;\n",
              "      border: none;\n",
              "      border-radius: 50%;\n",
              "      cursor: pointer;\n",
              "      display: none;\n",
              "      fill: #1967D2;\n",
              "      height: 32px;\n",
              "      padding: 0 0 0 0;\n",
              "      width: 32px;\n",
              "    }\n",
              "\n",
              "    .colab-df-convert:hover {\n",
              "      background-color: #E2EBFA;\n",
              "      box-shadow: 0px 1px 2px rgba(60, 64, 67, 0.3), 0px 1px 3px 1px rgba(60, 64, 67, 0.15);\n",
              "      fill: #174EA6;\n",
              "    }\n",
              "\n",
              "    [theme=dark] .colab-df-convert {\n",
              "      background-color: #3B4455;\n",
              "      fill: #D2E3FC;\n",
              "    }\n",
              "\n",
              "    [theme=dark] .colab-df-convert:hover {\n",
              "      background-color: #434B5C;\n",
              "      box-shadow: 0px 1px 3px 1px rgba(0, 0, 0, 0.15);\n",
              "      filter: drop-shadow(0px 1px 2px rgba(0, 0, 0, 0.3));\n",
              "      fill: #FFFFFF;\n",
              "    }\n",
              "  </style>\n",
              "\n",
              "      <script>\n",
              "        const buttonEl =\n",
              "          document.querySelector('#df-ffbc2217-2c6b-4db4-8245-33602a205e3e button.colab-df-convert');\n",
              "        buttonEl.style.display =\n",
              "          google.colab.kernel.accessAllowed ? 'block' : 'none';\n",
              "\n",
              "        async function convertToInteractive(key) {\n",
              "          const element = document.querySelector('#df-ffbc2217-2c6b-4db4-8245-33602a205e3e');\n",
              "          const dataTable =\n",
              "            await google.colab.kernel.invokeFunction('convertToInteractive',\n",
              "                                                     [key], {});\n",
              "          if (!dataTable) return;\n",
              "\n",
              "          const docLinkHtml = 'Like what you see? Visit the ' +\n",
              "            '<a target=\"_blank\" href=https://colab.research.google.com/notebooks/data_table.ipynb>data table notebook</a>'\n",
              "            + ' to learn more about interactive tables.';\n",
              "          element.innerHTML = '';\n",
              "          dataTable['output_type'] = 'display_data';\n",
              "          await google.colab.output.renderOutput(dataTable, element);\n",
              "          const docLink = document.createElement('div');\n",
              "          docLink.innerHTML = docLinkHtml;\n",
              "          element.appendChild(docLink);\n",
              "        }\n",
              "      </script>\n",
              "    </div>\n",
              "  </div>\n",
              "  "
            ]
          },
          "metadata": {},
          "execution_count": 16
        }
      ]
    },
    {
      "cell_type": "code",
      "source": [
        "rt_reviews_df.info()"
      ],
      "metadata": {
        "colab": {
          "base_uri": "https://localhost:8080/"
        },
        "id": "NQ2masDFVcU5",
        "outputId": "29ce8b25-a629-4f5b-c574-9c9797f48820"
      },
      "execution_count": null,
      "outputs": [
        {
          "output_type": "stream",
          "name": "stdout",
          "text": [
            "<class 'pandas.core.frame.DataFrame'>\n",
            "RangeIndex: 54432 entries, 0 to 54431\n",
            "Data columns (total 8 columns):\n",
            " #   Column      Non-Null Count  Dtype \n",
            "---  ------      --------------  ----- \n",
            " 0   id          54432 non-null  int64 \n",
            " 1   review      48869 non-null  object\n",
            " 2   rating      40915 non-null  object\n",
            " 3   fresh       54432 non-null  object\n",
            " 4   critic      51710 non-null  object\n",
            " 5   top_critic  54432 non-null  int64 \n",
            " 6   publisher   54123 non-null  object\n",
            " 7   date        54432 non-null  object\n",
            "dtypes: int64(2), object(6)\n",
            "memory usage: 3.3+ MB\n"
          ]
        }
      ]
    },
    {
      "cell_type": "markdown",
      "source": [
        "**Ditto Maybe to do: Might need to make a date time object for sorting purposes**"
      ],
      "metadata": {
        "id": "-eE2eUjcVpRN"
      }
    },
    {
      "cell_type": "code",
      "source": [
        "rt_reviews_df['date'].dtypes"
      ],
      "metadata": {
        "colab": {
          "base_uri": "https://localhost:8080/"
        },
        "id": "NmN7y6aRVgmI",
        "outputId": "8d91a074-762a-4886-c845-d9f4c3fd399c"
      },
      "execution_count": null,
      "outputs": [
        {
          "output_type": "execute_result",
          "data": {
            "text/plain": [
              "dtype('O')"
            ]
          },
          "metadata": {},
          "execution_count": 18
        }
      ]
    },
    {
      "cell_type": "markdown",
      "source": [
        "##Previewing `bom`"
      ],
      "metadata": {
        "id": "rTfbsXeHVye1"
      }
    },
    {
      "cell_type": "code",
      "source": [
        "bom_movie_gross_df.head()"
      ],
      "metadata": {
        "colab": {
          "base_uri": "https://localhost:8080/",
          "height": 206
        },
        "id": "QUnUAxXjVmUK",
        "outputId": "9ba0d751-bb60-4e94-affa-3612edb140c9"
      },
      "execution_count": null,
      "outputs": [
        {
          "output_type": "execute_result",
          "data": {
            "text/plain": [
              "                                         title studio  domestic_gross  \\\n",
              "0                                  Toy Story 3     BV     415000000.0   \n",
              "1                   Alice in Wonderland (2010)     BV     334200000.0   \n",
              "2  Harry Potter and the Deathly Hallows Part 1     WB     296000000.0   \n",
              "3                                    Inception     WB     292600000.0   \n",
              "4                          Shrek Forever After   P/DW     238700000.0   \n",
              "\n",
              "  foreign_gross  year  \n",
              "0     652000000  2010  \n",
              "1     691300000  2010  \n",
              "2     664300000  2010  \n",
              "3     535700000  2010  \n",
              "4     513900000  2010  "
            ],
            "text/html": [
              "\n",
              "  <div id=\"df-0c2a1237-0a0b-4961-acec-f7afccff0204\">\n",
              "    <div class=\"colab-df-container\">\n",
              "      <div>\n",
              "<style scoped>\n",
              "    .dataframe tbody tr th:only-of-type {\n",
              "        vertical-align: middle;\n",
              "    }\n",
              "\n",
              "    .dataframe tbody tr th {\n",
              "        vertical-align: top;\n",
              "    }\n",
              "\n",
              "    .dataframe thead th {\n",
              "        text-align: right;\n",
              "    }\n",
              "</style>\n",
              "<table border=\"1\" class=\"dataframe\">\n",
              "  <thead>\n",
              "    <tr style=\"text-align: right;\">\n",
              "      <th></th>\n",
              "      <th>title</th>\n",
              "      <th>studio</th>\n",
              "      <th>domestic_gross</th>\n",
              "      <th>foreign_gross</th>\n",
              "      <th>year</th>\n",
              "    </tr>\n",
              "  </thead>\n",
              "  <tbody>\n",
              "    <tr>\n",
              "      <th>0</th>\n",
              "      <td>Toy Story 3</td>\n",
              "      <td>BV</td>\n",
              "      <td>415000000.0</td>\n",
              "      <td>652000000</td>\n",
              "      <td>2010</td>\n",
              "    </tr>\n",
              "    <tr>\n",
              "      <th>1</th>\n",
              "      <td>Alice in Wonderland (2010)</td>\n",
              "      <td>BV</td>\n",
              "      <td>334200000.0</td>\n",
              "      <td>691300000</td>\n",
              "      <td>2010</td>\n",
              "    </tr>\n",
              "    <tr>\n",
              "      <th>2</th>\n",
              "      <td>Harry Potter and the Deathly Hallows Part 1</td>\n",
              "      <td>WB</td>\n",
              "      <td>296000000.0</td>\n",
              "      <td>664300000</td>\n",
              "      <td>2010</td>\n",
              "    </tr>\n",
              "    <tr>\n",
              "      <th>3</th>\n",
              "      <td>Inception</td>\n",
              "      <td>WB</td>\n",
              "      <td>292600000.0</td>\n",
              "      <td>535700000</td>\n",
              "      <td>2010</td>\n",
              "    </tr>\n",
              "    <tr>\n",
              "      <th>4</th>\n",
              "      <td>Shrek Forever After</td>\n",
              "      <td>P/DW</td>\n",
              "      <td>238700000.0</td>\n",
              "      <td>513900000</td>\n",
              "      <td>2010</td>\n",
              "    </tr>\n",
              "  </tbody>\n",
              "</table>\n",
              "</div>\n",
              "      <button class=\"colab-df-convert\" onclick=\"convertToInteractive('df-0c2a1237-0a0b-4961-acec-f7afccff0204')\"\n",
              "              title=\"Convert this dataframe to an interactive table.\"\n",
              "              style=\"display:none;\">\n",
              "        \n",
              "  <svg xmlns=\"http://www.w3.org/2000/svg\" height=\"24px\"viewBox=\"0 0 24 24\"\n",
              "       width=\"24px\">\n",
              "    <path d=\"M0 0h24v24H0V0z\" fill=\"none\"/>\n",
              "    <path d=\"M18.56 5.44l.94 2.06.94-2.06 2.06-.94-2.06-.94-.94-2.06-.94 2.06-2.06.94zm-11 1L8.5 8.5l.94-2.06 2.06-.94-2.06-.94L8.5 2.5l-.94 2.06-2.06.94zm10 10l.94 2.06.94-2.06 2.06-.94-2.06-.94-.94-2.06-.94 2.06-2.06.94z\"/><path d=\"M17.41 7.96l-1.37-1.37c-.4-.4-.92-.59-1.43-.59-.52 0-1.04.2-1.43.59L10.3 9.45l-7.72 7.72c-.78.78-.78 2.05 0 2.83L4 21.41c.39.39.9.59 1.41.59.51 0 1.02-.2 1.41-.59l7.78-7.78 2.81-2.81c.8-.78.8-2.07 0-2.86zM5.41 20L4 18.59l7.72-7.72 1.47 1.35L5.41 20z\"/>\n",
              "  </svg>\n",
              "      </button>\n",
              "      \n",
              "  <style>\n",
              "    .colab-df-container {\n",
              "      display:flex;\n",
              "      flex-wrap:wrap;\n",
              "      gap: 12px;\n",
              "    }\n",
              "\n",
              "    .colab-df-convert {\n",
              "      background-color: #E8F0FE;\n",
              "      border: none;\n",
              "      border-radius: 50%;\n",
              "      cursor: pointer;\n",
              "      display: none;\n",
              "      fill: #1967D2;\n",
              "      height: 32px;\n",
              "      padding: 0 0 0 0;\n",
              "      width: 32px;\n",
              "    }\n",
              "\n",
              "    .colab-df-convert:hover {\n",
              "      background-color: #E2EBFA;\n",
              "      box-shadow: 0px 1px 2px rgba(60, 64, 67, 0.3), 0px 1px 3px 1px rgba(60, 64, 67, 0.15);\n",
              "      fill: #174EA6;\n",
              "    }\n",
              "\n",
              "    [theme=dark] .colab-df-convert {\n",
              "      background-color: #3B4455;\n",
              "      fill: #D2E3FC;\n",
              "    }\n",
              "\n",
              "    [theme=dark] .colab-df-convert:hover {\n",
              "      background-color: #434B5C;\n",
              "      box-shadow: 0px 1px 3px 1px rgba(0, 0, 0, 0.15);\n",
              "      filter: drop-shadow(0px 1px 2px rgba(0, 0, 0, 0.3));\n",
              "      fill: #FFFFFF;\n",
              "    }\n",
              "  </style>\n",
              "\n",
              "      <script>\n",
              "        const buttonEl =\n",
              "          document.querySelector('#df-0c2a1237-0a0b-4961-acec-f7afccff0204 button.colab-df-convert');\n",
              "        buttonEl.style.display =\n",
              "          google.colab.kernel.accessAllowed ? 'block' : 'none';\n",
              "\n",
              "        async function convertToInteractive(key) {\n",
              "          const element = document.querySelector('#df-0c2a1237-0a0b-4961-acec-f7afccff0204');\n",
              "          const dataTable =\n",
              "            await google.colab.kernel.invokeFunction('convertToInteractive',\n",
              "                                                     [key], {});\n",
              "          if (!dataTable) return;\n",
              "\n",
              "          const docLinkHtml = 'Like what you see? Visit the ' +\n",
              "            '<a target=\"_blank\" href=https://colab.research.google.com/notebooks/data_table.ipynb>data table notebook</a>'\n",
              "            + ' to learn more about interactive tables.';\n",
              "          element.innerHTML = '';\n",
              "          dataTable['output_type'] = 'display_data';\n",
              "          await google.colab.output.renderOutput(dataTable, element);\n",
              "          const docLink = document.createElement('div');\n",
              "          docLink.innerHTML = docLinkHtml;\n",
              "          element.appendChild(docLink);\n",
              "        }\n",
              "      </script>\n",
              "    </div>\n",
              "  </div>\n",
              "  "
            ]
          },
          "metadata": {},
          "execution_count": 19
        }
      ]
    },
    {
      "cell_type": "code",
      "source": [
        "bom_movie_gross_df.info()"
      ],
      "metadata": {
        "colab": {
          "base_uri": "https://localhost:8080/"
        },
        "id": "w_Qdum-QV2ol",
        "outputId": "41ec08ec-241b-4902-e68f-db350af30c3b"
      },
      "execution_count": null,
      "outputs": [
        {
          "output_type": "stream",
          "name": "stdout",
          "text": [
            "<class 'pandas.core.frame.DataFrame'>\n",
            "RangeIndex: 3387 entries, 0 to 3386\n",
            "Data columns (total 5 columns):\n",
            " #   Column          Non-Null Count  Dtype  \n",
            "---  ------          --------------  -----  \n",
            " 0   title           3387 non-null   object \n",
            " 1   studio          3382 non-null   object \n",
            " 2   domestic_gross  3359 non-null   float64\n",
            " 3   foreign_gross   2037 non-null   object \n",
            " 4   year            3387 non-null   int64  \n",
            "dtypes: float64(1), int64(1), object(3)\n",
            "memory usage: 132.4+ KB\n"
          ]
        }
      ]
    },
    {
      "cell_type": "code",
      "source": [
        "bom_movie_gross_df['year'].value_counts()"
      ],
      "metadata": {
        "colab": {
          "base_uri": "https://localhost:8080/"
        },
        "id": "m6VaBjCRV522",
        "outputId": "934ff23e-117c-468a-9fb2-3d31a5ec266e"
      },
      "execution_count": null,
      "outputs": [
        {
          "output_type": "execute_result",
          "data": {
            "text/plain": [
              "2015    450\n",
              "2016    436\n",
              "2012    400\n",
              "2011    399\n",
              "2014    395\n",
              "2013    350\n",
              "2010    328\n",
              "2017    321\n",
              "2018    308\n",
              "Name: year, dtype: int64"
            ]
          },
          "metadata": {},
          "execution_count": 22
        }
      ]
    },
    {
      "cell_type": "markdown",
      "source": [
        "##Previewing `TN`"
      ],
      "metadata": {
        "id": "9VsMYjcZWQgj"
      }
    },
    {
      "cell_type": "code",
      "source": [
        "tn_movie_budgets_df.head()"
      ],
      "metadata": {
        "colab": {
          "base_uri": "https://localhost:8080/",
          "height": 206
        },
        "id": "Y42G9UcoWCOJ",
        "outputId": "9d19bc05-f8bb-4cc0-cbca-0b2ea87cdf7c"
      },
      "execution_count": null,
      "outputs": [
        {
          "output_type": "execute_result",
          "data": {
            "text/plain": [
              "   id  release_date                                        movie  \\\n",
              "0   1  Dec 18, 2009                                       Avatar   \n",
              "1   2  May 20, 2011  Pirates of the Caribbean: On Stranger Tides   \n",
              "2   3   Jun 7, 2019                                 Dark Phoenix   \n",
              "3   4   May 1, 2015                      Avengers: Age of Ultron   \n",
              "4   5  Dec 15, 2017            Star Wars Ep. VIII: The Last Jedi   \n",
              "\n",
              "  production_budget domestic_gross worldwide_gross  \n",
              "0      $425,000,000   $760,507,625  $2,776,345,279  \n",
              "1      $410,600,000   $241,063,875  $1,045,663,875  \n",
              "2      $350,000,000    $42,762,350    $149,762,350  \n",
              "3      $330,600,000   $459,005,868  $1,403,013,963  \n",
              "4      $317,000,000   $620,181,382  $1,316,721,747  "
            ],
            "text/html": [
              "\n",
              "  <div id=\"df-5ef3c3a0-d466-400b-bf77-0600ccf8034f\">\n",
              "    <div class=\"colab-df-container\">\n",
              "      <div>\n",
              "<style scoped>\n",
              "    .dataframe tbody tr th:only-of-type {\n",
              "        vertical-align: middle;\n",
              "    }\n",
              "\n",
              "    .dataframe tbody tr th {\n",
              "        vertical-align: top;\n",
              "    }\n",
              "\n",
              "    .dataframe thead th {\n",
              "        text-align: right;\n",
              "    }\n",
              "</style>\n",
              "<table border=\"1\" class=\"dataframe\">\n",
              "  <thead>\n",
              "    <tr style=\"text-align: right;\">\n",
              "      <th></th>\n",
              "      <th>id</th>\n",
              "      <th>release_date</th>\n",
              "      <th>movie</th>\n",
              "      <th>production_budget</th>\n",
              "      <th>domestic_gross</th>\n",
              "      <th>worldwide_gross</th>\n",
              "    </tr>\n",
              "  </thead>\n",
              "  <tbody>\n",
              "    <tr>\n",
              "      <th>0</th>\n",
              "      <td>1</td>\n",
              "      <td>Dec 18, 2009</td>\n",
              "      <td>Avatar</td>\n",
              "      <td>$425,000,000</td>\n",
              "      <td>$760,507,625</td>\n",
              "      <td>$2,776,345,279</td>\n",
              "    </tr>\n",
              "    <tr>\n",
              "      <th>1</th>\n",
              "      <td>2</td>\n",
              "      <td>May 20, 2011</td>\n",
              "      <td>Pirates of the Caribbean: On Stranger Tides</td>\n",
              "      <td>$410,600,000</td>\n",
              "      <td>$241,063,875</td>\n",
              "      <td>$1,045,663,875</td>\n",
              "    </tr>\n",
              "    <tr>\n",
              "      <th>2</th>\n",
              "      <td>3</td>\n",
              "      <td>Jun 7, 2019</td>\n",
              "      <td>Dark Phoenix</td>\n",
              "      <td>$350,000,000</td>\n",
              "      <td>$42,762,350</td>\n",
              "      <td>$149,762,350</td>\n",
              "    </tr>\n",
              "    <tr>\n",
              "      <th>3</th>\n",
              "      <td>4</td>\n",
              "      <td>May 1, 2015</td>\n",
              "      <td>Avengers: Age of Ultron</td>\n",
              "      <td>$330,600,000</td>\n",
              "      <td>$459,005,868</td>\n",
              "      <td>$1,403,013,963</td>\n",
              "    </tr>\n",
              "    <tr>\n",
              "      <th>4</th>\n",
              "      <td>5</td>\n",
              "      <td>Dec 15, 2017</td>\n",
              "      <td>Star Wars Ep. VIII: The Last Jedi</td>\n",
              "      <td>$317,000,000</td>\n",
              "      <td>$620,181,382</td>\n",
              "      <td>$1,316,721,747</td>\n",
              "    </tr>\n",
              "  </tbody>\n",
              "</table>\n",
              "</div>\n",
              "      <button class=\"colab-df-convert\" onclick=\"convertToInteractive('df-5ef3c3a0-d466-400b-bf77-0600ccf8034f')\"\n",
              "              title=\"Convert this dataframe to an interactive table.\"\n",
              "              style=\"display:none;\">\n",
              "        \n",
              "  <svg xmlns=\"http://www.w3.org/2000/svg\" height=\"24px\"viewBox=\"0 0 24 24\"\n",
              "       width=\"24px\">\n",
              "    <path d=\"M0 0h24v24H0V0z\" fill=\"none\"/>\n",
              "    <path d=\"M18.56 5.44l.94 2.06.94-2.06 2.06-.94-2.06-.94-.94-2.06-.94 2.06-2.06.94zm-11 1L8.5 8.5l.94-2.06 2.06-.94-2.06-.94L8.5 2.5l-.94 2.06-2.06.94zm10 10l.94 2.06.94-2.06 2.06-.94-2.06-.94-.94-2.06-.94 2.06-2.06.94z\"/><path d=\"M17.41 7.96l-1.37-1.37c-.4-.4-.92-.59-1.43-.59-.52 0-1.04.2-1.43.59L10.3 9.45l-7.72 7.72c-.78.78-.78 2.05 0 2.83L4 21.41c.39.39.9.59 1.41.59.51 0 1.02-.2 1.41-.59l7.78-7.78 2.81-2.81c.8-.78.8-2.07 0-2.86zM5.41 20L4 18.59l7.72-7.72 1.47 1.35L5.41 20z\"/>\n",
              "  </svg>\n",
              "      </button>\n",
              "      \n",
              "  <style>\n",
              "    .colab-df-container {\n",
              "      display:flex;\n",
              "      flex-wrap:wrap;\n",
              "      gap: 12px;\n",
              "    }\n",
              "\n",
              "    .colab-df-convert {\n",
              "      background-color: #E8F0FE;\n",
              "      border: none;\n",
              "      border-radius: 50%;\n",
              "      cursor: pointer;\n",
              "      display: none;\n",
              "      fill: #1967D2;\n",
              "      height: 32px;\n",
              "      padding: 0 0 0 0;\n",
              "      width: 32px;\n",
              "    }\n",
              "\n",
              "    .colab-df-convert:hover {\n",
              "      background-color: #E2EBFA;\n",
              "      box-shadow: 0px 1px 2px rgba(60, 64, 67, 0.3), 0px 1px 3px 1px rgba(60, 64, 67, 0.15);\n",
              "      fill: #174EA6;\n",
              "    }\n",
              "\n",
              "    [theme=dark] .colab-df-convert {\n",
              "      background-color: #3B4455;\n",
              "      fill: #D2E3FC;\n",
              "    }\n",
              "\n",
              "    [theme=dark] .colab-df-convert:hover {\n",
              "      background-color: #434B5C;\n",
              "      box-shadow: 0px 1px 3px 1px rgba(0, 0, 0, 0.15);\n",
              "      filter: drop-shadow(0px 1px 2px rgba(0, 0, 0, 0.3));\n",
              "      fill: #FFFFFF;\n",
              "    }\n",
              "  </style>\n",
              "\n",
              "      <script>\n",
              "        const buttonEl =\n",
              "          document.querySelector('#df-5ef3c3a0-d466-400b-bf77-0600ccf8034f button.colab-df-convert');\n",
              "        buttonEl.style.display =\n",
              "          google.colab.kernel.accessAllowed ? 'block' : 'none';\n",
              "\n",
              "        async function convertToInteractive(key) {\n",
              "          const element = document.querySelector('#df-5ef3c3a0-d466-400b-bf77-0600ccf8034f');\n",
              "          const dataTable =\n",
              "            await google.colab.kernel.invokeFunction('convertToInteractive',\n",
              "                                                     [key], {});\n",
              "          if (!dataTable) return;\n",
              "\n",
              "          const docLinkHtml = 'Like what you see? Visit the ' +\n",
              "            '<a target=\"_blank\" href=https://colab.research.google.com/notebooks/data_table.ipynb>data table notebook</a>'\n",
              "            + ' to learn more about interactive tables.';\n",
              "          element.innerHTML = '';\n",
              "          dataTable['output_type'] = 'display_data';\n",
              "          await google.colab.output.renderOutput(dataTable, element);\n",
              "          const docLink = document.createElement('div');\n",
              "          docLink.innerHTML = docLinkHtml;\n",
              "          element.appendChild(docLink);\n",
              "        }\n",
              "      </script>\n",
              "    </div>\n",
              "  </div>\n",
              "  "
            ]
          },
          "metadata": {},
          "execution_count": 23
        }
      ]
    },
    {
      "cell_type": "code",
      "source": [
        "tn_movie_budgets_df.info()"
      ],
      "metadata": {
        "colab": {
          "base_uri": "https://localhost:8080/"
        },
        "id": "ZlfkNLHPWTsb",
        "outputId": "0367dec6-6836-4772-9d26-6e729b1d8c84"
      },
      "execution_count": null,
      "outputs": [
        {
          "output_type": "stream",
          "name": "stdout",
          "text": [
            "<class 'pandas.core.frame.DataFrame'>\n",
            "RangeIndex: 5782 entries, 0 to 5781\n",
            "Data columns (total 6 columns):\n",
            " #   Column             Non-Null Count  Dtype \n",
            "---  ------             --------------  ----- \n",
            " 0   id                 5782 non-null   int64 \n",
            " 1   release_date       5782 non-null   object\n",
            " 2   movie              5782 non-null   object\n",
            " 3   production_budget  5782 non-null   object\n",
            " 4   domestic_gross     5782 non-null   object\n",
            " 5   worldwide_gross    5782 non-null   object\n",
            "dtypes: int64(1), object(5)\n",
            "memory usage: 271.2+ KB\n"
          ]
        }
      ]
    },
    {
      "cell_type": "markdown",
      "source": [
        "**Triple Ditto Maybe to do: ugh another date as an object**"
      ],
      "metadata": {
        "id": "oT0s9KqXWeXN"
      }
    },
    {
      "cell_type": "markdown",
      "source": [
        "##Making year columns for TN and RT"
      ],
      "metadata": {
        "id": "sVTZqS1FWzgs"
      }
    },
    {
      "cell_type": "markdown",
      "source": [
        "###TN"
      ],
      "metadata": {
        "id": "YKjTfqolXYU8"
      }
    },
    {
      "cell_type": "code",
      "source": [
        "# make a copy\n",
        "tn_movie_budgets_df_copy = tn_movie_budgets_df.copy()"
      ],
      "metadata": {
        "id": "Vlsm-dkmXauG"
      },
      "execution_count": null,
      "outputs": []
    },
    {
      "cell_type": "code",
      "source": [
        "# grab year from release_date column\n",
        "tn_movie_budgets_df_copy['release_year'] = tn_movie_budgets_df_copy['release_date'].str.split(',').str[1]"
      ],
      "metadata": {
        "id": "2HOW9C0qYxB0"
      },
      "execution_count": null,
      "outputs": []
    },
    {
      "cell_type": "code",
      "source": [
        "# sanity check\n",
        "tn_movie_budgets_df_copy.head(3)"
      ],
      "metadata": {
        "colab": {
          "base_uri": "https://localhost:8080/",
          "height": 187
        },
        "id": "tgeyIfbVX0zq",
        "outputId": "d05665e4-eb75-4d40-98f0-5c2b9a596890"
      },
      "execution_count": null,
      "outputs": [
        {
          "output_type": "execute_result",
          "data": {
            "text/plain": [
              "   id  release_date                                        movie  \\\n",
              "0   1  Dec 18, 2009                                       Avatar   \n",
              "1   2  May 20, 2011  Pirates of the Caribbean: On Stranger Tides   \n",
              "2   3   Jun 7, 2019                                 Dark Phoenix   \n",
              "\n",
              "  production_budget domestic_gross worldwide_gross release_year  \n",
              "0      $425,000,000   $760,507,625  $2,776,345,279         2009  \n",
              "1      $410,600,000   $241,063,875  $1,045,663,875         2011  \n",
              "2      $350,000,000    $42,762,350    $149,762,350         2019  "
            ],
            "text/html": [
              "\n",
              "  <div id=\"df-74781e5a-3d8a-4b7b-9e93-9a984869a2a0\">\n",
              "    <div class=\"colab-df-container\">\n",
              "      <div>\n",
              "<style scoped>\n",
              "    .dataframe tbody tr th:only-of-type {\n",
              "        vertical-align: middle;\n",
              "    }\n",
              "\n",
              "    .dataframe tbody tr th {\n",
              "        vertical-align: top;\n",
              "    }\n",
              "\n",
              "    .dataframe thead th {\n",
              "        text-align: right;\n",
              "    }\n",
              "</style>\n",
              "<table border=\"1\" class=\"dataframe\">\n",
              "  <thead>\n",
              "    <tr style=\"text-align: right;\">\n",
              "      <th></th>\n",
              "      <th>id</th>\n",
              "      <th>release_date</th>\n",
              "      <th>movie</th>\n",
              "      <th>production_budget</th>\n",
              "      <th>domestic_gross</th>\n",
              "      <th>worldwide_gross</th>\n",
              "      <th>release_year</th>\n",
              "    </tr>\n",
              "  </thead>\n",
              "  <tbody>\n",
              "    <tr>\n",
              "      <th>0</th>\n",
              "      <td>1</td>\n",
              "      <td>Dec 18, 2009</td>\n",
              "      <td>Avatar</td>\n",
              "      <td>$425,000,000</td>\n",
              "      <td>$760,507,625</td>\n",
              "      <td>$2,776,345,279</td>\n",
              "      <td>2009</td>\n",
              "    </tr>\n",
              "    <tr>\n",
              "      <th>1</th>\n",
              "      <td>2</td>\n",
              "      <td>May 20, 2011</td>\n",
              "      <td>Pirates of the Caribbean: On Stranger Tides</td>\n",
              "      <td>$410,600,000</td>\n",
              "      <td>$241,063,875</td>\n",
              "      <td>$1,045,663,875</td>\n",
              "      <td>2011</td>\n",
              "    </tr>\n",
              "    <tr>\n",
              "      <th>2</th>\n",
              "      <td>3</td>\n",
              "      <td>Jun 7, 2019</td>\n",
              "      <td>Dark Phoenix</td>\n",
              "      <td>$350,000,000</td>\n",
              "      <td>$42,762,350</td>\n",
              "      <td>$149,762,350</td>\n",
              "      <td>2019</td>\n",
              "    </tr>\n",
              "  </tbody>\n",
              "</table>\n",
              "</div>\n",
              "      <button class=\"colab-df-convert\" onclick=\"convertToInteractive('df-74781e5a-3d8a-4b7b-9e93-9a984869a2a0')\"\n",
              "              title=\"Convert this dataframe to an interactive table.\"\n",
              "              style=\"display:none;\">\n",
              "        \n",
              "  <svg xmlns=\"http://www.w3.org/2000/svg\" height=\"24px\"viewBox=\"0 0 24 24\"\n",
              "       width=\"24px\">\n",
              "    <path d=\"M0 0h24v24H0V0z\" fill=\"none\"/>\n",
              "    <path d=\"M18.56 5.44l.94 2.06.94-2.06 2.06-.94-2.06-.94-.94-2.06-.94 2.06-2.06.94zm-11 1L8.5 8.5l.94-2.06 2.06-.94-2.06-.94L8.5 2.5l-.94 2.06-2.06.94zm10 10l.94 2.06.94-2.06 2.06-.94-2.06-.94-.94-2.06-.94 2.06-2.06.94z\"/><path d=\"M17.41 7.96l-1.37-1.37c-.4-.4-.92-.59-1.43-.59-.52 0-1.04.2-1.43.59L10.3 9.45l-7.72 7.72c-.78.78-.78 2.05 0 2.83L4 21.41c.39.39.9.59 1.41.59.51 0 1.02-.2 1.41-.59l7.78-7.78 2.81-2.81c.8-.78.8-2.07 0-2.86zM5.41 20L4 18.59l7.72-7.72 1.47 1.35L5.41 20z\"/>\n",
              "  </svg>\n",
              "      </button>\n",
              "      \n",
              "  <style>\n",
              "    .colab-df-container {\n",
              "      display:flex;\n",
              "      flex-wrap:wrap;\n",
              "      gap: 12px;\n",
              "    }\n",
              "\n",
              "    .colab-df-convert {\n",
              "      background-color: #E8F0FE;\n",
              "      border: none;\n",
              "      border-radius: 50%;\n",
              "      cursor: pointer;\n",
              "      display: none;\n",
              "      fill: #1967D2;\n",
              "      height: 32px;\n",
              "      padding: 0 0 0 0;\n",
              "      width: 32px;\n",
              "    }\n",
              "\n",
              "    .colab-df-convert:hover {\n",
              "      background-color: #E2EBFA;\n",
              "      box-shadow: 0px 1px 2px rgba(60, 64, 67, 0.3), 0px 1px 3px 1px rgba(60, 64, 67, 0.15);\n",
              "      fill: #174EA6;\n",
              "    }\n",
              "\n",
              "    [theme=dark] .colab-df-convert {\n",
              "      background-color: #3B4455;\n",
              "      fill: #D2E3FC;\n",
              "    }\n",
              "\n",
              "    [theme=dark] .colab-df-convert:hover {\n",
              "      background-color: #434B5C;\n",
              "      box-shadow: 0px 1px 3px 1px rgba(0, 0, 0, 0.15);\n",
              "      filter: drop-shadow(0px 1px 2px rgba(0, 0, 0, 0.3));\n",
              "      fill: #FFFFFF;\n",
              "    }\n",
              "  </style>\n",
              "\n",
              "      <script>\n",
              "        const buttonEl =\n",
              "          document.querySelector('#df-74781e5a-3d8a-4b7b-9e93-9a984869a2a0 button.colab-df-convert');\n",
              "        buttonEl.style.display =\n",
              "          google.colab.kernel.accessAllowed ? 'block' : 'none';\n",
              "\n",
              "        async function convertToInteractive(key) {\n",
              "          const element = document.querySelector('#df-74781e5a-3d8a-4b7b-9e93-9a984869a2a0');\n",
              "          const dataTable =\n",
              "            await google.colab.kernel.invokeFunction('convertToInteractive',\n",
              "                                                     [key], {});\n",
              "          if (!dataTable) return;\n",
              "\n",
              "          const docLinkHtml = 'Like what you see? Visit the ' +\n",
              "            '<a target=\"_blank\" href=https://colab.research.google.com/notebooks/data_table.ipynb>data table notebook</a>'\n",
              "            + ' to learn more about interactive tables.';\n",
              "          element.innerHTML = '';\n",
              "          dataTable['output_type'] = 'display_data';\n",
              "          await google.colab.output.renderOutput(dataTable, element);\n",
              "          const docLink = document.createElement('div');\n",
              "          docLink.innerHTML = docLinkHtml;\n",
              "          element.appendChild(docLink);\n",
              "        }\n",
              "      </script>\n",
              "    </div>\n",
              "  </div>\n",
              "  "
            ]
          },
          "metadata": {},
          "execution_count": 30
        }
      ]
    },
    {
      "cell_type": "code",
      "source": [
        "# sanity check part 2\n",
        "tn_movie_budgets_df_copy['release_year'].value_counts()"
      ],
      "metadata": {
        "colab": {
          "base_uri": "https://localhost:8080/"
        },
        "id": "TV_RI0jXWVjM",
        "outputId": "68c96311-668f-43fb-8acd-69f6f68ead69"
      },
      "execution_count": null,
      "outputs": [
        {
          "output_type": "execute_result",
          "data": {
            "text/plain": [
              " 2015    338\n",
              " 2010    274\n",
              " 2008    264\n",
              " 2006    260\n",
              " 2014    255\n",
              "        ... \n",
              " 1937      1\n",
              " 1927      1\n",
              " 1947      1\n",
              " 1958      1\n",
              " 1920      1\n",
              "Name: release_year, Length: 96, dtype: int64"
            ]
          },
          "metadata": {},
          "execution_count": 31
        }
      ]
    },
    {
      "cell_type": "markdown",
      "source": [
        "**To do: Looks good, but we can filter those old movies!**\n",
        "\n"
      ],
      "metadata": {
        "id": "3ZCa5nvRZLa2"
      }
    },
    {
      "cell_type": "markdown",
      "source": [
        "###RT"
      ],
      "metadata": {
        "id": "njXCPB9naxmc"
      }
    },
    {
      "cell_type": "code",
      "source": [
        "# make a copy\n",
        "rt_movie_info_df_copy = rt_movie_info_df.copy()"
      ],
      "metadata": {
        "id": "jN7cGsubbPku"
      },
      "execution_count": null,
      "outputs": []
    },
    {
      "cell_type": "code",
      "source": [
        "rt_movie_info_df_copy.info()"
      ],
      "metadata": {
        "colab": {
          "base_uri": "https://localhost:8080/"
        },
        "id": "9Ays0Ii4bpld",
        "outputId": "fbc8ea2a-edd2-4581-b478-7b6ab2d6c4a1"
      },
      "execution_count": null,
      "outputs": [
        {
          "output_type": "stream",
          "name": "stdout",
          "text": [
            "<class 'pandas.core.frame.DataFrame'>\n",
            "RangeIndex: 1560 entries, 0 to 1559\n",
            "Data columns (total 12 columns):\n",
            " #   Column        Non-Null Count  Dtype \n",
            "---  ------        --------------  ----- \n",
            " 0   id            1560 non-null   int64 \n",
            " 1   synopsis      1498 non-null   object\n",
            " 2   rating        1557 non-null   object\n",
            " 3   genre         1552 non-null   object\n",
            " 4   director      1361 non-null   object\n",
            " 5   writer        1111 non-null   object\n",
            " 6   theater_date  1201 non-null   object\n",
            " 7   dvd_date      1201 non-null   object\n",
            " 8   currency      340 non-null    object\n",
            " 9   box_office    340 non-null    object\n",
            " 10  runtime       1530 non-null   object\n",
            " 11  studio        494 non-null    object\n",
            "dtypes: int64(1), object(11)\n",
            "memory usage: 146.4+ KB\n"
          ]
        }
      ]
    },
    {
      "cell_type": "code",
      "source": [
        "# grab year from theater_date column\n",
        "rt_movie_info_df_copy['theater_year'] = rt_movie_info_df_copy ['theater_date'].str.split(',').str[1]"
      ],
      "metadata": {
        "id": "rS4fPZ1mbYK7"
      },
      "execution_count": null,
      "outputs": []
    },
    {
      "cell_type": "code",
      "source": [
        "# sanity check\n",
        "rt_movie_info_df_copy.head(1)"
      ],
      "metadata": {
        "colab": {
          "base_uri": "https://localhost:8080/",
          "height": 231
        },
        "id": "o3s3hEw-bwdr",
        "outputId": "743f8e51-f541-4263-d66c-73af3f5f57f4"
      },
      "execution_count": null,
      "outputs": [
        {
          "output_type": "execute_result",
          "data": {
            "text/plain": [
              "   id                                           synopsis rating  \\\n",
              "0   1  This gritty, fast-paced, and innovative police...      R   \n",
              "\n",
              "                                 genre          director          writer  \\\n",
              "0  Action and Adventure|Classics|Drama  William Friedkin  Ernest Tidyman   \n",
              "\n",
              "  theater_date      dvd_date currency box_office      runtime studio  \\\n",
              "0  Oct 9, 1971  Sep 25, 2001      NaN        NaN  104 minutes    NaN   \n",
              "\n",
              "  theater_year  \n",
              "0         1971  "
            ],
            "text/html": [
              "\n",
              "  <div id=\"df-571d4a7b-0e73-4883-8b3f-6831d568a31e\">\n",
              "    <div class=\"colab-df-container\">\n",
              "      <div>\n",
              "<style scoped>\n",
              "    .dataframe tbody tr th:only-of-type {\n",
              "        vertical-align: middle;\n",
              "    }\n",
              "\n",
              "    .dataframe tbody tr th {\n",
              "        vertical-align: top;\n",
              "    }\n",
              "\n",
              "    .dataframe thead th {\n",
              "        text-align: right;\n",
              "    }\n",
              "</style>\n",
              "<table border=\"1\" class=\"dataframe\">\n",
              "  <thead>\n",
              "    <tr style=\"text-align: right;\">\n",
              "      <th></th>\n",
              "      <th>id</th>\n",
              "      <th>synopsis</th>\n",
              "      <th>rating</th>\n",
              "      <th>genre</th>\n",
              "      <th>director</th>\n",
              "      <th>writer</th>\n",
              "      <th>theater_date</th>\n",
              "      <th>dvd_date</th>\n",
              "      <th>currency</th>\n",
              "      <th>box_office</th>\n",
              "      <th>runtime</th>\n",
              "      <th>studio</th>\n",
              "      <th>theater_year</th>\n",
              "    </tr>\n",
              "  </thead>\n",
              "  <tbody>\n",
              "    <tr>\n",
              "      <th>0</th>\n",
              "      <td>1</td>\n",
              "      <td>This gritty, fast-paced, and innovative police...</td>\n",
              "      <td>R</td>\n",
              "      <td>Action and Adventure|Classics|Drama</td>\n",
              "      <td>William Friedkin</td>\n",
              "      <td>Ernest Tidyman</td>\n",
              "      <td>Oct 9, 1971</td>\n",
              "      <td>Sep 25, 2001</td>\n",
              "      <td>NaN</td>\n",
              "      <td>NaN</td>\n",
              "      <td>104 minutes</td>\n",
              "      <td>NaN</td>\n",
              "      <td>1971</td>\n",
              "    </tr>\n",
              "  </tbody>\n",
              "</table>\n",
              "</div>\n",
              "      <button class=\"colab-df-convert\" onclick=\"convertToInteractive('df-571d4a7b-0e73-4883-8b3f-6831d568a31e')\"\n",
              "              title=\"Convert this dataframe to an interactive table.\"\n",
              "              style=\"display:none;\">\n",
              "        \n",
              "  <svg xmlns=\"http://www.w3.org/2000/svg\" height=\"24px\"viewBox=\"0 0 24 24\"\n",
              "       width=\"24px\">\n",
              "    <path d=\"M0 0h24v24H0V0z\" fill=\"none\"/>\n",
              "    <path d=\"M18.56 5.44l.94 2.06.94-2.06 2.06-.94-2.06-.94-.94-2.06-.94 2.06-2.06.94zm-11 1L8.5 8.5l.94-2.06 2.06-.94-2.06-.94L8.5 2.5l-.94 2.06-2.06.94zm10 10l.94 2.06.94-2.06 2.06-.94-2.06-.94-.94-2.06-.94 2.06-2.06.94z\"/><path d=\"M17.41 7.96l-1.37-1.37c-.4-.4-.92-.59-1.43-.59-.52 0-1.04.2-1.43.59L10.3 9.45l-7.72 7.72c-.78.78-.78 2.05 0 2.83L4 21.41c.39.39.9.59 1.41.59.51 0 1.02-.2 1.41-.59l7.78-7.78 2.81-2.81c.8-.78.8-2.07 0-2.86zM5.41 20L4 18.59l7.72-7.72 1.47 1.35L5.41 20z\"/>\n",
              "  </svg>\n",
              "      </button>\n",
              "      \n",
              "  <style>\n",
              "    .colab-df-container {\n",
              "      display:flex;\n",
              "      flex-wrap:wrap;\n",
              "      gap: 12px;\n",
              "    }\n",
              "\n",
              "    .colab-df-convert {\n",
              "      background-color: #E8F0FE;\n",
              "      border: none;\n",
              "      border-radius: 50%;\n",
              "      cursor: pointer;\n",
              "      display: none;\n",
              "      fill: #1967D2;\n",
              "      height: 32px;\n",
              "      padding: 0 0 0 0;\n",
              "      width: 32px;\n",
              "    }\n",
              "\n",
              "    .colab-df-convert:hover {\n",
              "      background-color: #E2EBFA;\n",
              "      box-shadow: 0px 1px 2px rgba(60, 64, 67, 0.3), 0px 1px 3px 1px rgba(60, 64, 67, 0.15);\n",
              "      fill: #174EA6;\n",
              "    }\n",
              "\n",
              "    [theme=dark] .colab-df-convert {\n",
              "      background-color: #3B4455;\n",
              "      fill: #D2E3FC;\n",
              "    }\n",
              "\n",
              "    [theme=dark] .colab-df-convert:hover {\n",
              "      background-color: #434B5C;\n",
              "      box-shadow: 0px 1px 3px 1px rgba(0, 0, 0, 0.15);\n",
              "      filter: drop-shadow(0px 1px 2px rgba(0, 0, 0, 0.3));\n",
              "      fill: #FFFFFF;\n",
              "    }\n",
              "  </style>\n",
              "\n",
              "      <script>\n",
              "        const buttonEl =\n",
              "          document.querySelector('#df-571d4a7b-0e73-4883-8b3f-6831d568a31e button.colab-df-convert');\n",
              "        buttonEl.style.display =\n",
              "          google.colab.kernel.accessAllowed ? 'block' : 'none';\n",
              "\n",
              "        async function convertToInteractive(key) {\n",
              "          const element = document.querySelector('#df-571d4a7b-0e73-4883-8b3f-6831d568a31e');\n",
              "          const dataTable =\n",
              "            await google.colab.kernel.invokeFunction('convertToInteractive',\n",
              "                                                     [key], {});\n",
              "          if (!dataTable) return;\n",
              "\n",
              "          const docLinkHtml = 'Like what you see? Visit the ' +\n",
              "            '<a target=\"_blank\" href=https://colab.research.google.com/notebooks/data_table.ipynb>data table notebook</a>'\n",
              "            + ' to learn more about interactive tables.';\n",
              "          element.innerHTML = '';\n",
              "          dataTable['output_type'] = 'display_data';\n",
              "          await google.colab.output.renderOutput(dataTable, element);\n",
              "          const docLink = document.createElement('div');\n",
              "          docLink.innerHTML = docLinkHtml;\n",
              "          element.appendChild(docLink);\n",
              "        }\n",
              "      </script>\n",
              "    </div>\n",
              "  </div>\n",
              "  "
            ]
          },
          "metadata": {},
          "execution_count": 39
        }
      ]
    },
    {
      "cell_type": "code",
      "source": [
        "# sanity check part 2\n",
        "# interesting! It did not convert to int64 this time!\n",
        "rt_movie_info_df_copy.info()"
      ],
      "metadata": {
        "colab": {
          "base_uri": "https://localhost:8080/"
        },
        "id": "w5a4hfn5b3hX",
        "outputId": "5411d69b-d75b-40e6-990d-8d390073d70d"
      },
      "execution_count": null,
      "outputs": [
        {
          "output_type": "stream",
          "name": "stdout",
          "text": [
            "<class 'pandas.core.frame.DataFrame'>\n",
            "RangeIndex: 1560 entries, 0 to 1559\n",
            "Data columns (total 13 columns):\n",
            " #   Column        Non-Null Count  Dtype \n",
            "---  ------        --------------  ----- \n",
            " 0   id            1560 non-null   int64 \n",
            " 1   synopsis      1498 non-null   object\n",
            " 2   rating        1557 non-null   object\n",
            " 3   genre         1552 non-null   object\n",
            " 4   director      1361 non-null   object\n",
            " 5   writer        1111 non-null   object\n",
            " 6   theater_date  1201 non-null   object\n",
            " 7   dvd_date      1201 non-null   object\n",
            " 8   currency      340 non-null    object\n",
            " 9   box_office    340 non-null    object\n",
            " 10  runtime       1530 non-null   object\n",
            " 11  studio        494 non-null    object\n",
            " 12  theater_year  1201 non-null   object\n",
            "dtypes: int64(1), object(12)\n",
            "memory usage: 158.6+ KB\n"
          ]
        }
      ]
    },
    {
      "cell_type": "markdown",
      "source": [
        "Converting `theater_year` to int64"
      ],
      "metadata": {
        "id": "4ob2pGiacBX5"
      }
    },
    {
      "cell_type": "code",
      "source": [
        "# syntax from geeks for geeks\n",
        "df[['A', 'C']] = df[['A', 'C']].apply(pd.to_numeric)"
      ],
      "metadata": {
        "id": "G8rFevHHcJg0"
      },
      "execution_count": null,
      "outputs": []
    },
    {
      "cell_type": "code",
      "source": [
        "rt_movie_info_df_copy[['theater_year']] = rt_movie_info_df_copy[['theater_year']].apply(pd.to_numeric)"
      ],
      "metadata": {
        "id": "OmE18ZHtcJSu"
      },
      "execution_count": null,
      "outputs": []
    },
    {
      "cell_type": "code",
      "source": [
        "# sanity check\n",
        "rt_movie_info_df_copy.info()"
      ],
      "metadata": {
        "colab": {
          "base_uri": "https://localhost:8080/"
        },
        "id": "-JBT5HAZcXE9",
        "outputId": "ea53cdd4-b0ed-4589-d3b0-8d171d652019"
      },
      "execution_count": null,
      "outputs": [
        {
          "output_type": "stream",
          "name": "stdout",
          "text": [
            "<class 'pandas.core.frame.DataFrame'>\n",
            "RangeIndex: 1560 entries, 0 to 1559\n",
            "Data columns (total 13 columns):\n",
            " #   Column        Non-Null Count  Dtype  \n",
            "---  ------        --------------  -----  \n",
            " 0   id            1560 non-null   int64  \n",
            " 1   synopsis      1498 non-null   object \n",
            " 2   rating        1557 non-null   object \n",
            " 3   genre         1552 non-null   object \n",
            " 4   director      1361 non-null   object \n",
            " 5   writer        1111 non-null   object \n",
            " 6   theater_date  1201 non-null   object \n",
            " 7   dvd_date      1201 non-null   object \n",
            " 8   currency      340 non-null    object \n",
            " 9   box_office    340 non-null    object \n",
            " 10  runtime       1530 non-null   object \n",
            " 11  studio        494 non-null    object \n",
            " 12  theater_year  1201 non-null   float64\n",
            "dtypes: float64(1), int64(1), object(11)\n",
            "memory usage: 158.6+ KB\n"
          ]
        }
      ]
    },
    {
      "cell_type": "markdown",
      "source": [
        "omg why is it a float?!"
      ],
      "metadata": {
        "id": "gGT1J0DIccCr"
      }
    },
    {
      "cell_type": "code",
      "source": [
        "rt_movie_info_df_copy['theater_year'].value_counts()"
      ],
      "metadata": {
        "colab": {
          "base_uri": "https://localhost:8080/"
        },
        "id": "sm2sdMjmcjSX",
        "outputId": "d1beb0a3-acd4-4474-bc62-006a8a00808e"
      },
      "execution_count": null,
      "outputs": [
        {
          "output_type": "execute_result",
          "data": {
            "text/plain": [
              "2003.0    40\n",
              "2000.0    38\n",
              "2009.0    35\n",
              "2001.0    35\n",
              "2002.0    34\n",
              "          ..\n",
              "1926.0     1\n",
              "1936.0     1\n",
              "1921.0     1\n",
              "1922.0     1\n",
              "1961.0     1\n",
              "Name: theater_year, Length: 91, dtype: int64"
            ]
          },
          "metadata": {},
          "execution_count": 43
        }
      ]
    },
    {
      "cell_type": "markdown",
      "source": [
        "Second `rt `"
      ],
      "metadata": {
        "id": "JbuRkkudcuvq"
      }
    },
    {
      "cell_type": "code",
      "source": [
        "# make a copy\n",
        "rt_reviews_df_copy = rt_reviews_df.copy()"
      ],
      "metadata": {
        "id": "GWkx7F_Mapvs"
      },
      "execution_count": null,
      "outputs": []
    },
    {
      "cell_type": "code",
      "source": [
        "rt_reviews_df_copy.head(1)"
      ],
      "metadata": {
        "colab": {
          "base_uri": "https://localhost:8080/",
          "height": 80
        },
        "id": "42_XK01Icy5n",
        "outputId": "17607694-80b2-4ea4-ace9-9ec96050046e"
      },
      "execution_count": null,
      "outputs": [
        {
          "output_type": "execute_result",
          "data": {
            "text/plain": [
              "   id                                             review rating  fresh  \\\n",
              "0   3  A distinctly gallows take on contemporary fina...    3/5  fresh   \n",
              "\n",
              "       critic  top_critic        publisher               date  \n",
              "0  PJ Nabarro           0  Patrick Nabarro  November 10, 2018  "
            ],
            "text/html": [
              "\n",
              "  <div id=\"df-69626025-58fa-46f8-b0de-48d9191ae1a4\">\n",
              "    <div class=\"colab-df-container\">\n",
              "      <div>\n",
              "<style scoped>\n",
              "    .dataframe tbody tr th:only-of-type {\n",
              "        vertical-align: middle;\n",
              "    }\n",
              "\n",
              "    .dataframe tbody tr th {\n",
              "        vertical-align: top;\n",
              "    }\n",
              "\n",
              "    .dataframe thead th {\n",
              "        text-align: right;\n",
              "    }\n",
              "</style>\n",
              "<table border=\"1\" class=\"dataframe\">\n",
              "  <thead>\n",
              "    <tr style=\"text-align: right;\">\n",
              "      <th></th>\n",
              "      <th>id</th>\n",
              "      <th>review</th>\n",
              "      <th>rating</th>\n",
              "      <th>fresh</th>\n",
              "      <th>critic</th>\n",
              "      <th>top_critic</th>\n",
              "      <th>publisher</th>\n",
              "      <th>date</th>\n",
              "    </tr>\n",
              "  </thead>\n",
              "  <tbody>\n",
              "    <tr>\n",
              "      <th>0</th>\n",
              "      <td>3</td>\n",
              "      <td>A distinctly gallows take on contemporary fina...</td>\n",
              "      <td>3/5</td>\n",
              "      <td>fresh</td>\n",
              "      <td>PJ Nabarro</td>\n",
              "      <td>0</td>\n",
              "      <td>Patrick Nabarro</td>\n",
              "      <td>November 10, 2018</td>\n",
              "    </tr>\n",
              "  </tbody>\n",
              "</table>\n",
              "</div>\n",
              "      <button class=\"colab-df-convert\" onclick=\"convertToInteractive('df-69626025-58fa-46f8-b0de-48d9191ae1a4')\"\n",
              "              title=\"Convert this dataframe to an interactive table.\"\n",
              "              style=\"display:none;\">\n",
              "        \n",
              "  <svg xmlns=\"http://www.w3.org/2000/svg\" height=\"24px\"viewBox=\"0 0 24 24\"\n",
              "       width=\"24px\">\n",
              "    <path d=\"M0 0h24v24H0V0z\" fill=\"none\"/>\n",
              "    <path d=\"M18.56 5.44l.94 2.06.94-2.06 2.06-.94-2.06-.94-.94-2.06-.94 2.06-2.06.94zm-11 1L8.5 8.5l.94-2.06 2.06-.94-2.06-.94L8.5 2.5l-.94 2.06-2.06.94zm10 10l.94 2.06.94-2.06 2.06-.94-2.06-.94-.94-2.06-.94 2.06-2.06.94z\"/><path d=\"M17.41 7.96l-1.37-1.37c-.4-.4-.92-.59-1.43-.59-.52 0-1.04.2-1.43.59L10.3 9.45l-7.72 7.72c-.78.78-.78 2.05 0 2.83L4 21.41c.39.39.9.59 1.41.59.51 0 1.02-.2 1.41-.59l7.78-7.78 2.81-2.81c.8-.78.8-2.07 0-2.86zM5.41 20L4 18.59l7.72-7.72 1.47 1.35L5.41 20z\"/>\n",
              "  </svg>\n",
              "      </button>\n",
              "      \n",
              "  <style>\n",
              "    .colab-df-container {\n",
              "      display:flex;\n",
              "      flex-wrap:wrap;\n",
              "      gap: 12px;\n",
              "    }\n",
              "\n",
              "    .colab-df-convert {\n",
              "      background-color: #E8F0FE;\n",
              "      border: none;\n",
              "      border-radius: 50%;\n",
              "      cursor: pointer;\n",
              "      display: none;\n",
              "      fill: #1967D2;\n",
              "      height: 32px;\n",
              "      padding: 0 0 0 0;\n",
              "      width: 32px;\n",
              "    }\n",
              "\n",
              "    .colab-df-convert:hover {\n",
              "      background-color: #E2EBFA;\n",
              "      box-shadow: 0px 1px 2px rgba(60, 64, 67, 0.3), 0px 1px 3px 1px rgba(60, 64, 67, 0.15);\n",
              "      fill: #174EA6;\n",
              "    }\n",
              "\n",
              "    [theme=dark] .colab-df-convert {\n",
              "      background-color: #3B4455;\n",
              "      fill: #D2E3FC;\n",
              "    }\n",
              "\n",
              "    [theme=dark] .colab-df-convert:hover {\n",
              "      background-color: #434B5C;\n",
              "      box-shadow: 0px 1px 3px 1px rgba(0, 0, 0, 0.15);\n",
              "      filter: drop-shadow(0px 1px 2px rgba(0, 0, 0, 0.3));\n",
              "      fill: #FFFFFF;\n",
              "    }\n",
              "  </style>\n",
              "\n",
              "      <script>\n",
              "        const buttonEl =\n",
              "          document.querySelector('#df-69626025-58fa-46f8-b0de-48d9191ae1a4 button.colab-df-convert');\n",
              "        buttonEl.style.display =\n",
              "          google.colab.kernel.accessAllowed ? 'block' : 'none';\n",
              "\n",
              "        async function convertToInteractive(key) {\n",
              "          const element = document.querySelector('#df-69626025-58fa-46f8-b0de-48d9191ae1a4');\n",
              "          const dataTable =\n",
              "            await google.colab.kernel.invokeFunction('convertToInteractive',\n",
              "                                                     [key], {});\n",
              "          if (!dataTable) return;\n",
              "\n",
              "          const docLinkHtml = 'Like what you see? Visit the ' +\n",
              "            '<a target=\"_blank\" href=https://colab.research.google.com/notebooks/data_table.ipynb>data table notebook</a>'\n",
              "            + ' to learn more about interactive tables.';\n",
              "          element.innerHTML = '';\n",
              "          dataTable['output_type'] = 'display_data';\n",
              "          await google.colab.output.renderOutput(dataTable, element);\n",
              "          const docLink = document.createElement('div');\n",
              "          docLink.innerHTML = docLinkHtml;\n",
              "          element.appendChild(docLink);\n",
              "        }\n",
              "      </script>\n",
              "    </div>\n",
              "  </div>\n",
              "  "
            ]
          },
          "metadata": {},
          "execution_count": 45
        }
      ]
    },
    {
      "cell_type": "code",
      "source": [
        "# grab year from date column\n",
        "rt_reviews_df_copy['year'] = rt_reviews_df_copy['date'].str.split(',').str[1]"
      ],
      "metadata": {
        "id": "KkDCttD9bDN2"
      },
      "execution_count": null,
      "outputs": []
    },
    {
      "cell_type": "code",
      "source": [
        "rt_reviews_df_copy.head(1)"
      ],
      "metadata": {
        "colab": {
          "base_uri": "https://localhost:8080/",
          "height": 80
        },
        "id": "2Kfx4yt4c_ff",
        "outputId": "b42a4fc1-09bd-4010-de92-db04e491c37d"
      },
      "execution_count": null,
      "outputs": [
        {
          "output_type": "execute_result",
          "data": {
            "text/plain": [
              "   id                                             review rating  fresh  \\\n",
              "0   3  A distinctly gallows take on contemporary fina...    3/5  fresh   \n",
              "\n",
              "       critic  top_critic        publisher               date   year  \n",
              "0  PJ Nabarro           0  Patrick Nabarro  November 10, 2018   2018  "
            ],
            "text/html": [
              "\n",
              "  <div id=\"df-33fc76b9-0848-4b1e-90ef-f928524b590e\">\n",
              "    <div class=\"colab-df-container\">\n",
              "      <div>\n",
              "<style scoped>\n",
              "    .dataframe tbody tr th:only-of-type {\n",
              "        vertical-align: middle;\n",
              "    }\n",
              "\n",
              "    .dataframe tbody tr th {\n",
              "        vertical-align: top;\n",
              "    }\n",
              "\n",
              "    .dataframe thead th {\n",
              "        text-align: right;\n",
              "    }\n",
              "</style>\n",
              "<table border=\"1\" class=\"dataframe\">\n",
              "  <thead>\n",
              "    <tr style=\"text-align: right;\">\n",
              "      <th></th>\n",
              "      <th>id</th>\n",
              "      <th>review</th>\n",
              "      <th>rating</th>\n",
              "      <th>fresh</th>\n",
              "      <th>critic</th>\n",
              "      <th>top_critic</th>\n",
              "      <th>publisher</th>\n",
              "      <th>date</th>\n",
              "      <th>year</th>\n",
              "    </tr>\n",
              "  </thead>\n",
              "  <tbody>\n",
              "    <tr>\n",
              "      <th>0</th>\n",
              "      <td>3</td>\n",
              "      <td>A distinctly gallows take on contemporary fina...</td>\n",
              "      <td>3/5</td>\n",
              "      <td>fresh</td>\n",
              "      <td>PJ Nabarro</td>\n",
              "      <td>0</td>\n",
              "      <td>Patrick Nabarro</td>\n",
              "      <td>November 10, 2018</td>\n",
              "      <td>2018</td>\n",
              "    </tr>\n",
              "  </tbody>\n",
              "</table>\n",
              "</div>\n",
              "      <button class=\"colab-df-convert\" onclick=\"convertToInteractive('df-33fc76b9-0848-4b1e-90ef-f928524b590e')\"\n",
              "              title=\"Convert this dataframe to an interactive table.\"\n",
              "              style=\"display:none;\">\n",
              "        \n",
              "  <svg xmlns=\"http://www.w3.org/2000/svg\" height=\"24px\"viewBox=\"0 0 24 24\"\n",
              "       width=\"24px\">\n",
              "    <path d=\"M0 0h24v24H0V0z\" fill=\"none\"/>\n",
              "    <path d=\"M18.56 5.44l.94 2.06.94-2.06 2.06-.94-2.06-.94-.94-2.06-.94 2.06-2.06.94zm-11 1L8.5 8.5l.94-2.06 2.06-.94-2.06-.94L8.5 2.5l-.94 2.06-2.06.94zm10 10l.94 2.06.94-2.06 2.06-.94-2.06-.94-.94-2.06-.94 2.06-2.06.94z\"/><path d=\"M17.41 7.96l-1.37-1.37c-.4-.4-.92-.59-1.43-.59-.52 0-1.04.2-1.43.59L10.3 9.45l-7.72 7.72c-.78.78-.78 2.05 0 2.83L4 21.41c.39.39.9.59 1.41.59.51 0 1.02-.2 1.41-.59l7.78-7.78 2.81-2.81c.8-.78.8-2.07 0-2.86zM5.41 20L4 18.59l7.72-7.72 1.47 1.35L5.41 20z\"/>\n",
              "  </svg>\n",
              "      </button>\n",
              "      \n",
              "  <style>\n",
              "    .colab-df-container {\n",
              "      display:flex;\n",
              "      flex-wrap:wrap;\n",
              "      gap: 12px;\n",
              "    }\n",
              "\n",
              "    .colab-df-convert {\n",
              "      background-color: #E8F0FE;\n",
              "      border: none;\n",
              "      border-radius: 50%;\n",
              "      cursor: pointer;\n",
              "      display: none;\n",
              "      fill: #1967D2;\n",
              "      height: 32px;\n",
              "      padding: 0 0 0 0;\n",
              "      width: 32px;\n",
              "    }\n",
              "\n",
              "    .colab-df-convert:hover {\n",
              "      background-color: #E2EBFA;\n",
              "      box-shadow: 0px 1px 2px rgba(60, 64, 67, 0.3), 0px 1px 3px 1px rgba(60, 64, 67, 0.15);\n",
              "      fill: #174EA6;\n",
              "    }\n",
              "\n",
              "    [theme=dark] .colab-df-convert {\n",
              "      background-color: #3B4455;\n",
              "      fill: #D2E3FC;\n",
              "    }\n",
              "\n",
              "    [theme=dark] .colab-df-convert:hover {\n",
              "      background-color: #434B5C;\n",
              "      box-shadow: 0px 1px 3px 1px rgba(0, 0, 0, 0.15);\n",
              "      filter: drop-shadow(0px 1px 2px rgba(0, 0, 0, 0.3));\n",
              "      fill: #FFFFFF;\n",
              "    }\n",
              "  </style>\n",
              "\n",
              "      <script>\n",
              "        const buttonEl =\n",
              "          document.querySelector('#df-33fc76b9-0848-4b1e-90ef-f928524b590e button.colab-df-convert');\n",
              "        buttonEl.style.display =\n",
              "          google.colab.kernel.accessAllowed ? 'block' : 'none';\n",
              "\n",
              "        async function convertToInteractive(key) {\n",
              "          const element = document.querySelector('#df-33fc76b9-0848-4b1e-90ef-f928524b590e');\n",
              "          const dataTable =\n",
              "            await google.colab.kernel.invokeFunction('convertToInteractive',\n",
              "                                                     [key], {});\n",
              "          if (!dataTable) return;\n",
              "\n",
              "          const docLinkHtml = 'Like what you see? Visit the ' +\n",
              "            '<a target=\"_blank\" href=https://colab.research.google.com/notebooks/data_table.ipynb>data table notebook</a>'\n",
              "            + ' to learn more about interactive tables.';\n",
              "          element.innerHTML = '';\n",
              "          dataTable['output_type'] = 'display_data';\n",
              "          await google.colab.output.renderOutput(dataTable, element);\n",
              "          const docLink = document.createElement('div');\n",
              "          docLink.innerHTML = docLinkHtml;\n",
              "          element.appendChild(docLink);\n",
              "        }\n",
              "      </script>\n",
              "    </div>\n",
              "  </div>\n",
              "  "
            ]
          },
          "metadata": {},
          "execution_count": 47
        }
      ]
    },
    {
      "cell_type": "code",
      "source": [
        "rt_reviews_df_copy['year'].value_counts()"
      ],
      "metadata": {
        "colab": {
          "base_uri": "https://localhost:8080/"
        },
        "id": "XoAlXGgOdEvf",
        "outputId": "cfed9e88-86b5-4d49-e485-b106e55042bd"
      },
      "execution_count": null,
      "outputs": [
        {
          "output_type": "execute_result",
          "data": {
            "text/plain": [
              " 2000    4414\n",
              " 2003    4293\n",
              " 2002    4021\n",
              " 2005    3763\n",
              " 2004    3700\n",
              " 2018    3501\n",
              " 2009    2957\n",
              " 2007    2848\n",
              " 2006    2783\n",
              " 2011    2667\n",
              " 2008    2369\n",
              " 2010    2306\n",
              " 2016    2292\n",
              " 2012    2177\n",
              " 2017    2152\n",
              " 2001    2082\n",
              " 2014    2069\n",
              " 2015    2035\n",
              " 2013    1868\n",
              " 1998      20\n",
              " 1995      17\n",
              " 1997      15\n",
              " 1994      14\n",
              " 1993      11\n",
              " 1991      10\n",
              " 1992      10\n",
              " 1990       9\n",
              " 1996       8\n",
              " 1999       5\n",
              " 1800       4\n",
              " 1951       2\n",
              " 1988       2\n",
              " 1973       1\n",
              " 1981       1\n",
              " 1953       1\n",
              " 1986       1\n",
              " 1958       1\n",
              " 1969       1\n",
              " 1965       1\n",
              " 1983       1\n",
              "Name: year, dtype: int64"
            ]
          },
          "metadata": {},
          "execution_count": 48
        }
      ]
    },
    {
      "cell_type": "markdown",
      "source": [
        "###Exporting to csv to play around in Tableau!"
      ],
      "metadata": {
        "id": "wSzZifffd-HM"
      }
    },
    {
      "cell_type": "code",
      "source": [
        "from google.colab import drive\n",
        "drive.mount('/content/drive')\n",
        "path = '/content/drive/My Drive/rt_reviews_df_copy.csv'\n",
        "with open(path, 'w', encoding = 'utf-8-sig') as f:\n",
        "  rt_reviews_df_copy.to_csv(f)"
      ],
      "metadata": {
        "colab": {
          "base_uri": "https://localhost:8080/"
        },
        "id": "aefe8_E-eBjp",
        "outputId": "6c0c38ec-9844-49be-f757-16b9c6cb3e04"
      },
      "execution_count": null,
      "outputs": [
        {
          "output_type": "stream",
          "name": "stdout",
          "text": [
            "Mounted at /content/drive\n"
          ]
        }
      ]
    },
    {
      "cell_type": "code",
      "source": [
        "path = '/content/drive/My Drive/rt_movie_info_df_copy.csv'\n",
        "with open(path, 'w', encoding = 'utf-8-sig') as f:\n",
        "  rt_movie_info_df_copy.to_csv(f)"
      ],
      "metadata": {
        "id": "Xl5wZx6reYq2"
      },
      "execution_count": null,
      "outputs": []
    },
    {
      "cell_type": "code",
      "source": [
        "path = '/content/drive/My Drive/tn_movie_budgets_df_copy.csv'\n",
        "with open(path, 'w', encoding = 'utf-8-sig') as f:\n",
        "  tn_movie_budgets_df_copy.to_csv(f)"
      ],
      "metadata": {
        "id": "143iSwuNef1O"
      },
      "execution_count": null,
      "outputs": []
    },
    {
      "cell_type": "code",
      "source": [
        "path = '/content/drive/My Drive/bom_movie_gross_df.csv'\n",
        "with open(path, 'w', encoding = 'utf-8-sig') as f:\n",
        "  bom_movie_gross_df.to_csv(f)"
      ],
      "metadata": {
        "id": "XEfdfmlRen8f"
      },
      "execution_count": null,
      "outputs": []
    }
  ]
}